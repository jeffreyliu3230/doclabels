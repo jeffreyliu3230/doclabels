{
 "cells": [
  {
   "cell_type": "code",
   "execution_count": 11,
   "metadata": {
    "collapsed": true
   },
   "outputs": [],
   "source": [
    "import csv\n",
    "import json\n",
    "import numpy as np\n",
    "from sklearn.feature_extraction.text import CountVectorizer\n",
    "from sklearn.feature_extraction.text import TfidfTransformer\n",
    "from sklearn.pipeline import Pipeline\n",
    "from sklearn.linear_model import SGDClassifier"
   ]
  },
  {
   "cell_type": "code",
   "execution_count": 2,
   "metadata": {
    "collapsed": true
   },
   "outputs": [],
   "source": [
    "# Define default variables\n",
    "prefix = 'small'\n",
    "cut = 1000"
   ]
  },
  {
   "cell_type": "markdown",
   "metadata": {},
   "source": [
    "###### Reading data"
   ]
  },
  {
   "cell_type": "code",
   "execution_count": 8,
   "metadata": {
    "collapsed": false
   },
   "outputs": [],
   "source": [
    "with open('./data/{}-padded'.format(prefix), 'rb') as f:\n",
    "    paddedreader = csv.reader(f)\n",
    "\n",
    "    padded = [row for row in paddedreader]\n",
    "with open('./data/{}-responses'.format(prefix), 'r') as f2:\n",
    "    responses = json.load(f2)"
   ]
  },
  {
   "cell_type": "code",
   "execution_count": 9,
   "metadata": {
    "collapsed": false
   },
   "outputs": [],
   "source": [
    "raw_docs = map(lambda x: \" \".join(x).replace(\" <PAD/>\", \"\"),padded)\n",
    "y_raw = map(lambda x: x.index(1) ,responses)"
   ]
  },
  {
   "cell_type": "markdown",
   "metadata": {},
   "source": [
    "###### Split training and test data"
   ]
  },
  {
   "cell_type": "code",
   "execution_count": 14,
   "metadata": {
    "collapsed": false
   },
   "outputs": [],
   "source": [
    "np.random.seed(1000)\n",
    "shuffle_indices = np.random.permutation(np.arange(len(y_raw)))\n",
    "x_raw_shuffled = np.asarray(raw_docs)[shuffle_indices]\n",
    "y_raw_shuffled = np.asarray(y_raw)[shuffle_indices]\n",
    "# Split train/test set\n",
    "\n",
    "x_raw_train, x_raw_test = x_raw_shuffled[:-cut], x_raw_shuffled[-cut:]\n",
    "y_raw_train, y_raw_test = y_raw_shuffled[:-cut], y_raw_shuffled[-cut:]"
   ]
  },
  {
   "cell_type": "markdown",
   "metadata": {},
   "source": [
    "###### Build classifier"
   ]
  },
  {
   "cell_type": "code",
   "execution_count": 17,
   "metadata": {
    "collapsed": false
   },
   "outputs": [
    {
     "data": {
      "text/plain": [
       "0.68000000000000005"
      ]
     },
     "execution_count": 17,
     "metadata": {},
     "output_type": "execute_result"
    }
   ],
   "source": [
    "# Build linear classifier using square_hinge loss. Can use SVM by switching to hinge loss.\n",
    "text_clf = Pipeline([('vect', CountVectorizer()),\n",
    "                     ('tfidf', TfidfTransformer()),\n",
    "                     ('clf', SGDClassifier(loss='squared_hinge', penalty='l2',\n",
    "                                           alpha=1e-3, n_iter=5, random_state=42)),\n",
    "])\n",
    "_ = text_clf.fit(list(x_raw_train), y_raw_train)\n",
    "predicted_svm = text_clf.predict(x_raw_test)\n",
    "np.mean(predicted_svm == y_raw_test)"
   ]
  },
  {
   "cell_type": "code",
   "execution_count": null,
   "metadata": {
    "collapsed": true
   },
   "outputs": [],
   "source": []
  },
  {
   "cell_type": "code",
   "execution_count": null,
   "metadata": {
    "collapsed": true
   },
   "outputs": [],
   "source": [
    "# Accuracy on training set. Detect potential overfitting\n",
    "np.mean(text_clf.predict(x_raw_train) == y_raw_train)"
   ]
  },
  {
   "cell_type": "markdown",
   "metadata": {},
   "source": [
    "###### Futher work\n",
    "\n",
    "- Are responses factorized?\n",
    "- Accuracy on individual classes\n",
    "- Cross validation\n",
    "- More features, especially adding word vectors\n",
    "- Training on large dataset"
   ]
  },
  {
   "cell_type": "code",
   "execution_count": null,
   "metadata": {
    "collapsed": true
   },
   "outputs": [],
   "source": []
  }
 ],
 "metadata": {
  "kernelspec": {
   "display_name": "Python 2",
   "language": "python",
   "name": "python2"
  },
  "language_info": {
   "codemirror_mode": {
    "name": "ipython",
    "version": 2
   },
   "file_extension": ".py",
   "mimetype": "text/x-python",
   "name": "python",
   "nbconvert_exporter": "python",
   "pygments_lexer": "ipython2",
   "version": "2.7.10"
  }
 },
 "nbformat": 4,
 "nbformat_minor": 0
}
