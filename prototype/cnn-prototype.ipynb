{
 "cells": [
  {
   "cell_type": "code",
   "execution_count": null,
   "metadata": {
    "collapsed": false
   },
   "outputs": [],
   "source": [
    "import sys\n",
    "sys.path.append('../../doclabels')\n",
    "import plosdata\n",
    "import json\n",
    "import numpy as np"
   ]
  },
  {
   "cell_type": "code",
   "execution_count": 224,
   "metadata": {
    "collapsed": false
   },
   "outputs": [
    {
     "data": {
      "text/plain": [
       "<module 'plosdata' from 'plosdata.pyc'>"
      ]
     },
     "execution_count": 224,
     "metadata": {},
     "output_type": "execute_result"
    }
   ],
   "source": [
    "reload(plosdata)"
   ]
  },
  {
   "cell_type": "code",
   "execution_count": 225,
   "metadata": {
    "collapsed": false
   },
   "outputs": [
    {
     "data": {
      "text/plain": [
       "<module 'plosapi' from 'plosapi.pyc'>"
      ]
     },
     "execution_count": 225,
     "metadata": {},
     "output_type": "execute_result"
    }
   ],
   "source": [
    "reload(plosapi)"
   ]
  },
  {
   "cell_type": "code",
   "execution_count": null,
   "metadata": {
    "collapsed": false
   },
   "outputs": [],
   "source": [
    "plosdata.response_map"
   ]
  },
  {
   "cell_type": "code",
   "execution_count": 165,
   "metadata": {
    "collapsed": false
   },
   "outputs": [
    {
     "name": "stderr",
     "output_type": "stream",
     "text": [
      "INFO:plosapi:making request to http://api.plos.org/search?fq=doc_type%3Afull%20AND%20article_type%3A%22research%20article%22&rows=500&q=Biology%20and%20life%20sciences&start=0&wt=json&api_key=a1TjkHdh2NzVd6jhsDzM\n"
     ]
    },
    {
     "name": "stdout",
     "output_type": "stream",
     "text": [
      "0\n",
      "haha"
     ]
    },
    {
     "name": "stderr",
     "output_type": "stream",
     "text": [
      "INFO:plosapi:making request to http://api.plos.org/search?fq=doc_type%3Afull%20AND%20article_type%3A%22research%20article%22&rows=500&q=Biology%20and%20life%20sciences&start=500&wt=json&api_key=a1TjkHdh2NzVd6jhsDzM\n"
     ]
    },
    {
     "name": "stdout",
     "output_type": "stream",
     "text": [
      "\n",
      "500\n",
      "haha\n"
     ]
    }
   ],
   "source": [
    "import plosapi\n",
    "for docs in plosapi.sample(\"Biology and life sciences\", 1000, 500):\n",
    "    print('haha')"
   ]
  },
  {
   "cell_type": "code",
   "execution_count": 226,
   "metadata": {
    "collapsed": false
   },
   "outputs": [
    {
     "name": "stderr",
     "output_type": "stream",
     "text": [
      "INFO:plosdata:1000 documents to be saved for the subject: Biology and life sciences\n",
      "INFO:prototype.plosapi:making request to http://api.plos.org/search?fq=doc_type%3Afull%20AND%20article_type%3A%22research%20article%22&rows=500&q=subject%3A%22Biology%20and%20life%20sciences%22&start=0&wt=json&api_key=a1TjkHdh2NzVd6jhsDzM\n",
      "INFO:prototype.plosapi:making request to http://api.plos.org/search?fq=doc_type%3Afull%20AND%20article_type%3A%22research%20article%22&rows=500&q=subject%3A%22Biology%20and%20life%20sciences%22&start=500&wt=json&api_key=a1TjkHdh2NzVd6jhsDzM\n"
     ]
    },
    {
     "ename": "KeyboardInterrupt",
     "evalue": "",
     "output_type": "error",
     "traceback": [
      "\u001b[0;31m---------------------------------------------------------------------------\u001b[0m",
      "\u001b[0;31mKeyboardInterrupt\u001b[0m                         Traceback (most recent call last)",
      "\u001b[0;32m<ipython-input-226-fde76e0ad276>\u001b[0m in \u001b[0;36m<module>\u001b[0;34m()\u001b[0m\n\u001b[0;32m----> 1\u001b[0;31m \u001b[0mplosdata\u001b[0m\u001b[0;34m.\u001b[0m\u001b[0msave_source\u001b[0m\u001b[0;34m(\u001b[0m\u001b[0;34m'./data'\u001b[0m\u001b[0;34m,\u001b[0m \u001b[0mprefix\u001b[0m\u001b[0;34m=\u001b[0m\u001b[0;34m'testsmall'\u001b[0m\u001b[0;34m,\u001b[0m \u001b[0mlimit\u001b[0m\u001b[0;34m=\u001b[0m\u001b[0;36m1000\u001b[0m\u001b[0;34m,\u001b[0m \u001b[0mincrement\u001b[0m\u001b[0;34m=\u001b[0m\u001b[0;36m500\u001b[0m\u001b[0;34m)\u001b[0m\u001b[0;34m\u001b[0m\u001b[0m\n\u001b[0m",
      "\u001b[0;32m/Users/jliu3230/doclabels/prototype/plosdata.pyc\u001b[0m in \u001b[0;36msave_source\u001b[0;34m(filepath, prefix, subject_areas, limit, increment)\u001b[0m\n\u001b[1;32m     43\u001b[0m         \u001b[0mlogger\u001b[0m\u001b[0;34m.\u001b[0m\u001b[0minfo\u001b[0m\u001b[0;34m(\u001b[0m\u001b[0;34m'{} documents to be saved for the subject: {}'\u001b[0m\u001b[0;34m.\u001b[0m\u001b[0mformat\u001b[0m\u001b[0;34m(\u001b[0m\u001b[0mlimit\u001b[0m\u001b[0;34m,\u001b[0m \u001b[0msubject\u001b[0m\u001b[0;34m)\u001b[0m\u001b[0;34m)\u001b[0m\u001b[0;34m\u001b[0m\u001b[0m\n\u001b[1;32m     44\u001b[0m         \u001b[0mstart\u001b[0m \u001b[0;34m=\u001b[0m \u001b[0mtime\u001b[0m\u001b[0;34m.\u001b[0m\u001b[0mclock\u001b[0m\u001b[0;34m(\u001b[0m\u001b[0;34m)\u001b[0m\u001b[0;34m\u001b[0m\u001b[0m\n\u001b[0;32m---> 45\u001b[0;31m         \u001b[0mdocs\u001b[0m \u001b[0;34m=\u001b[0m \u001b[0mplosapi\u001b[0m\u001b[0;34m.\u001b[0m\u001b[0msample\u001b[0m\u001b[0;34m(\u001b[0m\u001b[0;34m'subject:\\\"{}\\\"'\u001b[0m\u001b[0;34m.\u001b[0m\u001b[0mformat\u001b[0m\u001b[0;34m(\u001b[0m\u001b[0msubject\u001b[0m\u001b[0;34m)\u001b[0m\u001b[0;34m,\u001b[0m \u001b[0mlimit\u001b[0m\u001b[0;34m,\u001b[0m \u001b[0mincrement\u001b[0m\u001b[0;34m)\u001b[0m\u001b[0;34m\u001b[0m\u001b[0m\n\u001b[0m\u001b[1;32m     46\u001b[0m         \u001b[0msource\u001b[0m \u001b[0;34m=\u001b[0m \u001b[0;34m{\u001b[0m\u001b[0;34m'response'\u001b[0m\u001b[0;34m:\u001b[0m \u001b[0mresponse_map\u001b[0m\u001b[0;34m[\u001b[0m\u001b[0msubject\u001b[0m\u001b[0;34m]\u001b[0m\u001b[0;34m,\u001b[0m \u001b[0;34m'docs'\u001b[0m\u001b[0;34m:\u001b[0m \u001b[0mdocs\u001b[0m\u001b[0;34m}\u001b[0m\u001b[0;34m\u001b[0m\u001b[0m\n\u001b[1;32m     47\u001b[0m         \u001b[0mfilename\u001b[0m \u001b[0;34m=\u001b[0m \u001b[0msubject\u001b[0m\u001b[0;34m.\u001b[0m\u001b[0mreplace\u001b[0m\u001b[0;34m(\u001b[0m\u001b[0;34m\" \"\u001b[0m\u001b[0;34m,\u001b[0m \u001b[0;34m\"_\"\u001b[0m\u001b[0;34m)\u001b[0m\u001b[0;34m.\u001b[0m\u001b[0mlower\u001b[0m\u001b[0;34m(\u001b[0m\u001b[0;34m)\u001b[0m\u001b[0;34m\u001b[0m\u001b[0m\n",
      "\u001b[0;32m/Users/jliu3230/doclabels/prototype/plosapi.py\u001b[0m in \u001b[0;36msample\u001b[0;34m(query, limit, increment)\u001b[0m\n\u001b[1;32m     88\u001b[0m     \u001b[0mdocs\u001b[0m \u001b[0;34m=\u001b[0m \u001b[0;34m[\u001b[0m\u001b[0;34m]\u001b[0m\u001b[0;34m\u001b[0m\u001b[0m\n\u001b[1;32m     89\u001b[0m     \u001b[0;32mfor\u001b[0m \u001b[0mi\u001b[0m \u001b[0;32min\u001b[0m \u001b[0mxrange\u001b[0m\u001b[0;34m(\u001b[0m\u001b[0;36m0\u001b[0m\u001b[0;34m,\u001b[0m \u001b[0mlimit\u001b[0m\u001b[0;34m,\u001b[0m \u001b[0mincrement\u001b[0m\u001b[0;34m)\u001b[0m\u001b[0;34m:\u001b[0m\u001b[0;34m\u001b[0m\u001b[0m\n\u001b[0;32m---> 90\u001b[0;31m         \u001b[0mresult\u001b[0m \u001b[0;34m=\u001b[0m \u001b[0msearch\u001b[0m\u001b[0;34m(\u001b[0m\u001b[0;34m{\u001b[0m\u001b[0;34m'q'\u001b[0m\u001b[0;34m:\u001b[0m \u001b[0mquery\u001b[0m\u001b[0;34m,\u001b[0m \u001b[0;34m'rows'\u001b[0m\u001b[0;34m:\u001b[0m \u001b[0mincrement\u001b[0m\u001b[0;34m,\u001b[0m \u001b[0;34m'start'\u001b[0m\u001b[0;34m:\u001b[0m \u001b[0mi\u001b[0m\u001b[0;34m}\u001b[0m\u001b[0;34m)\u001b[0m\u001b[0;34m\u001b[0m\u001b[0m\n\u001b[0m\u001b[1;32m     91\u001b[0m         \u001b[0;32mif\u001b[0m \u001b[0mlen\u001b[0m\u001b[0;34m(\u001b[0m\u001b[0mresult\u001b[0m\u001b[0;34m)\u001b[0m \u001b[0;34m==\u001b[0m \u001b[0;36m0\u001b[0m\u001b[0;34m:\u001b[0m\u001b[0;34m\u001b[0m\u001b[0m\n\u001b[1;32m     92\u001b[0m             \u001b[0;32mbreak\u001b[0m\u001b[0;34m\u001b[0m\u001b[0m\n",
      "\u001b[0;32m/Users/jliu3230/doclabels/prototype/plosapi.py\u001b[0m in \u001b[0;36msearch\u001b[0;34m(query)\u001b[0m\n\u001b[1;32m     39\u001b[0m                             part, query[part])\n\u001b[1;32m     40\u001b[0m     \u001b[0mlogger\u001b[0m\u001b[0;34m.\u001b[0m\u001b[0minfo\u001b[0m\u001b[0;34m(\u001b[0m\u001b[0;34m'making request to {}'\u001b[0m\u001b[0;34m.\u001b[0m\u001b[0mformat\u001b[0m\u001b[0;34m(\u001b[0m\u001b[0murl\u001b[0m\u001b[0;34m)\u001b[0m\u001b[0;34m)\u001b[0m\u001b[0;34m\u001b[0m\u001b[0m\n\u001b[0;32m---> 41\u001b[0;31m     \u001b[0;32mreturn\u001b[0m \u001b[0mjson\u001b[0m\u001b[0;34m.\u001b[0m\u001b[0mload\u001b[0m\u001b[0;34m(\u001b[0m\u001b[0murlopen\u001b[0m\u001b[0;34m(\u001b[0m\u001b[0murl\u001b[0m\u001b[0;34m)\u001b[0m\u001b[0;34m,\u001b[0m \u001b[0mencoding\u001b[0m\u001b[0;34m=\u001b[0m\u001b[0;34m'UTF-8'\u001b[0m\u001b[0;34m)\u001b[0m\u001b[0;34m[\u001b[0m\u001b[0;34m'response'\u001b[0m\u001b[0;34m]\u001b[0m\u001b[0;34m[\u001b[0m\u001b[0;34m'docs'\u001b[0m\u001b[0;34m]\u001b[0m\u001b[0;34m\u001b[0m\u001b[0m\n\u001b[0m\u001b[1;32m     42\u001b[0m \u001b[0;34m\u001b[0m\u001b[0m\n\u001b[1;32m     43\u001b[0m \u001b[0;34m\u001b[0m\u001b[0m\n",
      "\u001b[0;32m/usr/local/Cellar/python/2.7.10_1/Frameworks/Python.framework/Versions/2.7/lib/python2.7/json/__init__.pyc\u001b[0m in \u001b[0;36mload\u001b[0;34m(fp, encoding, cls, object_hook, parse_float, parse_int, parse_constant, object_pairs_hook, **kw)\u001b[0m\n\u001b[1;32m    284\u001b[0m \u001b[0;34m\u001b[0m\u001b[0m\n\u001b[1;32m    285\u001b[0m     \"\"\"\n\u001b[0;32m--> 286\u001b[0;31m     return loads(fp.read(),\n\u001b[0m\u001b[1;32m    287\u001b[0m         \u001b[0mencoding\u001b[0m\u001b[0;34m=\u001b[0m\u001b[0mencoding\u001b[0m\u001b[0;34m,\u001b[0m \u001b[0mcls\u001b[0m\u001b[0;34m=\u001b[0m\u001b[0mcls\u001b[0m\u001b[0;34m,\u001b[0m \u001b[0mobject_hook\u001b[0m\u001b[0;34m=\u001b[0m\u001b[0mobject_hook\u001b[0m\u001b[0;34m,\u001b[0m\u001b[0;34m\u001b[0m\u001b[0m\n\u001b[1;32m    288\u001b[0m         \u001b[0mparse_float\u001b[0m\u001b[0;34m=\u001b[0m\u001b[0mparse_float\u001b[0m\u001b[0;34m,\u001b[0m \u001b[0mparse_int\u001b[0m\u001b[0;34m=\u001b[0m\u001b[0mparse_int\u001b[0m\u001b[0;34m,\u001b[0m\u001b[0;34m\u001b[0m\u001b[0m\n",
      "\u001b[0;32m/usr/local/Cellar/python/2.7.10_1/Frameworks/Python.framework/Versions/2.7/lib/python2.7/socket.pyc\u001b[0m in \u001b[0;36mread\u001b[0;34m(self, size)\u001b[0m\n\u001b[1;32m    353\u001b[0m             \u001b[0;32mwhile\u001b[0m \u001b[0mTrue\u001b[0m\u001b[0;34m:\u001b[0m\u001b[0;34m\u001b[0m\u001b[0m\n\u001b[1;32m    354\u001b[0m                 \u001b[0;32mtry\u001b[0m\u001b[0;34m:\u001b[0m\u001b[0;34m\u001b[0m\u001b[0m\n\u001b[0;32m--> 355\u001b[0;31m                     \u001b[0mdata\u001b[0m \u001b[0;34m=\u001b[0m \u001b[0mself\u001b[0m\u001b[0;34m.\u001b[0m\u001b[0m_sock\u001b[0m\u001b[0;34m.\u001b[0m\u001b[0mrecv\u001b[0m\u001b[0;34m(\u001b[0m\u001b[0mrbufsize\u001b[0m\u001b[0;34m)\u001b[0m\u001b[0;34m\u001b[0m\u001b[0m\n\u001b[0m\u001b[1;32m    356\u001b[0m                 \u001b[0;32mexcept\u001b[0m \u001b[0merror\u001b[0m\u001b[0;34m,\u001b[0m \u001b[0me\u001b[0m\u001b[0;34m:\u001b[0m\u001b[0;34m\u001b[0m\u001b[0m\n\u001b[1;32m    357\u001b[0m                     \u001b[0;32mif\u001b[0m \u001b[0me\u001b[0m\u001b[0;34m.\u001b[0m\u001b[0margs\u001b[0m\u001b[0;34m[\u001b[0m\u001b[0;36m0\u001b[0m\u001b[0;34m]\u001b[0m \u001b[0;34m==\u001b[0m \u001b[0mEINTR\u001b[0m\u001b[0;34m:\u001b[0m\u001b[0;34m\u001b[0m\u001b[0m\n",
      "\u001b[0;32m/usr/local/Cellar/python/2.7.10_1/Frameworks/Python.framework/Versions/2.7/lib/python2.7/httplib.pyc\u001b[0m in \u001b[0;36mread\u001b[0;34m(self, amt)\u001b[0m\n\u001b[1;32m    586\u001b[0m \u001b[0;34m\u001b[0m\u001b[0m\n\u001b[1;32m    587\u001b[0m         \u001b[0;32mif\u001b[0m \u001b[0mself\u001b[0m\u001b[0;34m.\u001b[0m\u001b[0mchunked\u001b[0m\u001b[0;34m:\u001b[0m\u001b[0;34m\u001b[0m\u001b[0m\n\u001b[0;32m--> 588\u001b[0;31m             \u001b[0;32mreturn\u001b[0m \u001b[0mself\u001b[0m\u001b[0;34m.\u001b[0m\u001b[0m_read_chunked\u001b[0m\u001b[0;34m(\u001b[0m\u001b[0mamt\u001b[0m\u001b[0;34m)\u001b[0m\u001b[0;34m\u001b[0m\u001b[0m\n\u001b[0m\u001b[1;32m    589\u001b[0m \u001b[0;34m\u001b[0m\u001b[0m\n\u001b[1;32m    590\u001b[0m         \u001b[0;32mif\u001b[0m \u001b[0mamt\u001b[0m \u001b[0;32mis\u001b[0m \u001b[0mNone\u001b[0m\u001b[0;34m:\u001b[0m\u001b[0;34m\u001b[0m\u001b[0m\n",
      "\u001b[0;32m/usr/local/Cellar/python/2.7.10_1/Frameworks/Python.framework/Versions/2.7/lib/python2.7/httplib.pyc\u001b[0m in \u001b[0;36m_read_chunked\u001b[0;34m(self, amt)\u001b[0m\n\u001b[1;32m    655\u001b[0m                 \u001b[0;32mreturn\u001b[0m \u001b[0;34m''\u001b[0m\u001b[0;34m.\u001b[0m\u001b[0mjoin\u001b[0m\u001b[0;34m(\u001b[0m\u001b[0mvalue\u001b[0m\u001b[0;34m)\u001b[0m\u001b[0;34m\u001b[0m\u001b[0m\n\u001b[1;32m    656\u001b[0m             \u001b[0;32melse\u001b[0m\u001b[0;34m:\u001b[0m\u001b[0;34m\u001b[0m\u001b[0m\n\u001b[0;32m--> 657\u001b[0;31m                 \u001b[0mvalue\u001b[0m\u001b[0;34m.\u001b[0m\u001b[0mappend\u001b[0m\u001b[0;34m(\u001b[0m\u001b[0mself\u001b[0m\u001b[0;34m.\u001b[0m\u001b[0m_safe_read\u001b[0m\u001b[0;34m(\u001b[0m\u001b[0mchunk_left\u001b[0m\u001b[0;34m)\u001b[0m\u001b[0;34m)\u001b[0m\u001b[0;34m\u001b[0m\u001b[0m\n\u001b[0m\u001b[1;32m    658\u001b[0m                 \u001b[0mamt\u001b[0m \u001b[0;34m-=\u001b[0m \u001b[0mchunk_left\u001b[0m\u001b[0;34m\u001b[0m\u001b[0m\n\u001b[1;32m    659\u001b[0m \u001b[0;34m\u001b[0m\u001b[0m\n",
      "\u001b[0;32m/usr/local/Cellar/python/2.7.10_1/Frameworks/Python.framework/Versions/2.7/lib/python2.7/httplib.pyc\u001b[0m in \u001b[0;36m_safe_read\u001b[0;34m(self, amt)\u001b[0m\n\u001b[1;32m    701\u001b[0m         \u001b[0ms\u001b[0m \u001b[0;34m=\u001b[0m \u001b[0;34m[\u001b[0m\u001b[0;34m]\u001b[0m\u001b[0;34m\u001b[0m\u001b[0m\n\u001b[1;32m    702\u001b[0m         \u001b[0;32mwhile\u001b[0m \u001b[0mamt\u001b[0m \u001b[0;34m>\u001b[0m \u001b[0;36m0\u001b[0m\u001b[0;34m:\u001b[0m\u001b[0;34m\u001b[0m\u001b[0m\n\u001b[0;32m--> 703\u001b[0;31m             \u001b[0mchunk\u001b[0m \u001b[0;34m=\u001b[0m \u001b[0mself\u001b[0m\u001b[0;34m.\u001b[0m\u001b[0mfp\u001b[0m\u001b[0;34m.\u001b[0m\u001b[0mread\u001b[0m\u001b[0;34m(\u001b[0m\u001b[0mmin\u001b[0m\u001b[0;34m(\u001b[0m\u001b[0mamt\u001b[0m\u001b[0;34m,\u001b[0m \u001b[0mMAXAMOUNT\u001b[0m\u001b[0;34m)\u001b[0m\u001b[0;34m)\u001b[0m\u001b[0;34m\u001b[0m\u001b[0m\n\u001b[0m\u001b[1;32m    704\u001b[0m             \u001b[0;32mif\u001b[0m \u001b[0;32mnot\u001b[0m \u001b[0mchunk\u001b[0m\u001b[0;34m:\u001b[0m\u001b[0;34m\u001b[0m\u001b[0m\n\u001b[1;32m    705\u001b[0m                 \u001b[0;32mraise\u001b[0m \u001b[0mIncompleteRead\u001b[0m\u001b[0;34m(\u001b[0m\u001b[0;34m''\u001b[0m\u001b[0;34m.\u001b[0m\u001b[0mjoin\u001b[0m\u001b[0;34m(\u001b[0m\u001b[0ms\u001b[0m\u001b[0;34m)\u001b[0m\u001b[0;34m,\u001b[0m \u001b[0mamt\u001b[0m\u001b[0;34m)\u001b[0m\u001b[0;34m\u001b[0m\u001b[0m\n",
      "\u001b[0;32m/usr/local/Cellar/python/2.7.10_1/Frameworks/Python.framework/Versions/2.7/lib/python2.7/socket.pyc\u001b[0m in \u001b[0;36mread\u001b[0;34m(self, size)\u001b[0m\n\u001b[1;32m    382\u001b[0m                 \u001b[0;31m# fragmentation issues on many platforms.\u001b[0m\u001b[0;34m\u001b[0m\u001b[0;34m\u001b[0m\u001b[0m\n\u001b[1;32m    383\u001b[0m                 \u001b[0;32mtry\u001b[0m\u001b[0;34m:\u001b[0m\u001b[0;34m\u001b[0m\u001b[0m\n\u001b[0;32m--> 384\u001b[0;31m                     \u001b[0mdata\u001b[0m \u001b[0;34m=\u001b[0m \u001b[0mself\u001b[0m\u001b[0;34m.\u001b[0m\u001b[0m_sock\u001b[0m\u001b[0;34m.\u001b[0m\u001b[0mrecv\u001b[0m\u001b[0;34m(\u001b[0m\u001b[0mleft\u001b[0m\u001b[0;34m)\u001b[0m\u001b[0;34m\u001b[0m\u001b[0m\n\u001b[0m\u001b[1;32m    385\u001b[0m                 \u001b[0;32mexcept\u001b[0m \u001b[0merror\u001b[0m\u001b[0;34m,\u001b[0m \u001b[0me\u001b[0m\u001b[0;34m:\u001b[0m\u001b[0;34m\u001b[0m\u001b[0m\n\u001b[1;32m    386\u001b[0m                     \u001b[0;32mif\u001b[0m \u001b[0me\u001b[0m\u001b[0;34m.\u001b[0m\u001b[0margs\u001b[0m\u001b[0;34m[\u001b[0m\u001b[0;36m0\u001b[0m\u001b[0;34m]\u001b[0m \u001b[0;34m==\u001b[0m \u001b[0mEINTR\u001b[0m\u001b[0;34m:\u001b[0m\u001b[0;34m\u001b[0m\u001b[0m\n",
      "\u001b[0;31mKeyboardInterrupt\u001b[0m: "
     ]
    }
   ],
   "source": [
    "plosdata.save_source('./data', prefix='testsmall', limit=1000, increment=500)"
   ]
  },
  {
   "cell_type": "code",
   "execution_count": null,
   "metadata": {
    "collapsed": false
   },
   "outputs": [],
   "source": [
    "text, response = plosdata.process_source('data/small-people_and_places.sample')"
   ]
  },
  {
   "cell_type": "code",
   "execution_count": null,
   "metadata": {
    "collapsed": false
   },
   "outputs": [],
   "source": [
    "filenames = [subject.replace(\" \", \"_\").lower() for subject in plosdata.subject_areas]\n",
    "file_list = ['{}/{}-{}.sample'.format('data', 'small', filename) for filename in filenames]\n",
    "padded, responses = plosdata.process_sources(file_list)"
   ]
  },
  {
   "cell_type": "code",
   "execution_count": null,
   "metadata": {
    "collapsed": false
   },
   "outputs": [],
   "source": [
    "with open('small-padded', 'w') as f:\n",
    "    json.dump(padded, f)"
   ]
  },
  {
   "cell_type": "code",
   "execution_count": null,
   "metadata": {
    "collapsed": true
   },
   "outputs": [],
   "source": [
    "with open('small-responses', 'w') as f2:\n",
    "    json.dump(responses, f2)"
   ]
  },
  {
   "cell_type": "code",
   "execution_count": null,
   "metadata": {
    "collapsed": false
   },
   "outputs": [],
   "source": [
    "padded, responses= plosdata.load_processed('small-padded', 'small-responses')"
   ]
  },
  {
   "cell_type": "code",
   "execution_count": null,
   "metadata": {
    "collapsed": false
   },
   "outputs": [],
   "source": [
    "vocab = plosdata.build_vocabulary(padded)"
   ]
  },
  {
   "cell_type": "code",
   "execution_count": null,
   "metadata": {
    "collapsed": false
   },
   "outputs": [],
   "source": [
    "# Load Word2Vec\n",
    "import gensim\n",
    "model = gensim.models.Word2Vec.load_word2vec_format('../GoogleNews-vectors-negative300.bin.gz', binary=True)"
   ]
  },
  {
   "cell_type": "code",
   "execution_count": null,
   "metadata": {
    "collapsed": false
   },
   "outputs": [],
   "source": [
    "# Build word vectors space\n",
    "word_vec_space = plosdata.build_word_vec_space(vocab, model)"
   ]
  },
  {
   "cell_type": "code",
   "execution_count": null,
   "metadata": {
    "collapsed": true
   },
   "outputs": [],
   "source": [
    "# load word vec space from file\n",
    "word_vec_space = np.load('./data/small-word_vec_space.npy')"
   ]
  },
  {
   "cell_type": "code",
   "execution_count": null,
   "metadata": {
    "collapsed": true
   },
   "outputs": [],
   "source": [
    "# Build word vec index\n",
    "word_vec_ind = plosdata.build_word_vec_index(vocab, word_vec_space)"
   ]
  },
  {
   "cell_type": "code",
   "execution_count": null,
   "metadata": {
    "collapsed": false
   },
   "outputs": [],
   "source": []
  },
  {
   "cell_type": "code",
   "execution_count": null,
   "metadata": {
    "collapsed": false
   },
   "outputs": [],
   "source": [
    "x, y = plosdata.build_input(vocab, padded, responses)"
   ]
  },
  {
   "cell_type": "code",
   "execution_count": null,
   "metadata": {
    "collapsed": false
   },
   "outputs": [],
   "source": [
    "x.shape"
   ]
  },
  {
   "cell_type": "code",
   "execution_count": null,
   "metadata": {
    "collapsed": false
   },
   "outputs": [],
   "source": [
    "np.savez('./data/small-input', x=x, y=y)"
   ]
  },
  {
   "cell_type": "code",
   "execution_count": null,
   "metadata": {
    "collapsed": false
   },
   "outputs": [],
   "source": [
    "np.savez('./data/small-word_vec_ind', word_vec_ind)"
   ]
  },
  {
   "cell_type": "code",
   "execution_count": null,
   "metadata": {
    "collapsed": false
   },
   "outputs": [],
   "source": [
    "# Modelling\n",
    "len(word_vec_ind[0])"
   ]
  },
  {
   "cell_type": "code",
   "execution_count": null,
   "metadata": {
    "collapsed": true
   },
   "outputs": [],
   "source": [
    "embeddings = plosdata.create_embeddings(word_vec_ind)"
   ]
  },
  {
   "cell_type": "code",
   "execution_count": null,
   "metadata": {
    "collapsed": false
   },
   "outputs": [],
   "source": [
    "np.savez('./data/small-embeddings', embeddings)"
   ]
  },
  {
   "cell_type": "code",
   "execution_count": null,
   "metadata": {
    "collapsed": false
   },
   "outputs": [],
   "source": [
    "embeddings.shape[1]"
   ]
  },
  {
   "cell_type": "code",
   "execution_count": null,
   "metadata": {
    "collapsed": false
   },
   "outputs": [],
   "source": [
    "xandy = np.load('./data/small-embeddings.npz')"
   ]
  },
  {
   "cell_type": "code",
   "execution_count": null,
   "metadata": {
    "collapsed": false
   },
   "outputs": [],
   "source": [
    "xandy.files"
   ]
  },
  {
   "cell_type": "code",
   "execution_count": null,
   "metadata": {
    "collapsed": false
   },
   "outputs": [],
   "source": [
    "import tensorflow as tf\n",
    "import numpy as np\n",
    "import os\n",
    "import time\n",
    "import datetime\n",
    "import plosdata\n",
    "import logging\n",
    "\n",
    "from doc_cnn import DocCNN\n",
    "\n",
    "\n",
    "logger = logging.getLogger(__name__)\n",
    "logging.basicConfig(filename='cnn_train.log', filemode='w', level=logging.DEBUG)\n",
    "\n"
   ]
  },
  {
   "cell_type": "code",
   "execution_count": null,
   "metadata": {
    "collapsed": false
   },
   "outputs": [],
   "source": [
    "tf.flags.DEFINE_string(\"filter_sizes\", \"3,4,5\", \"Comma-separated filter sizes (default: '3,4,5')\")\n"
   ]
  },
  {
   "cell_type": "code",
   "execution_count": null,
   "metadata": {
    "collapsed": false
   },
   "outputs": [],
   "source": [
    "len(word_vec_ind)"
   ]
  },
  {
   "cell_type": "code",
   "execution_count": null,
   "metadata": {
    "collapsed": false
   },
   "outputs": [],
   "source": [
    "raw_docs = map(lambda x: \" \".join(x).replace(\" <PAD/>\", \"\"),padded)"
   ]
  },
  {
   "cell_type": "code",
   "execution_count": null,
   "metadata": {
    "collapsed": false
   },
   "outputs": [],
   "source": [
    "raw_docs[1]"
   ]
  },
  {
   "cell_type": "code",
   "execution_count": null,
   "metadata": {
    "collapsed": true
   },
   "outputs": [],
   "source": [
    "y_raw = map(lambda x: x.index(1) ,responses)"
   ]
  },
  {
   "cell_type": "code",
   "execution_count": null,
   "metadata": {
    "collapsed": false
   },
   "outputs": [],
   "source": [
    "list(shuffle_indices)"
   ]
  },
  {
   "cell_type": "code",
   "execution_count": null,
   "metadata": {
    "collapsed": false
   },
   "outputs": [],
   "source": [
    "np.random.seed(10)\n",
    "shuffle_indices = np.random.permutation(np.arange(len(y_raw)))\n",
    "x_raw_shuffled = np.asarray(raw_docs)[shuffle_indices]\n",
    "y_raw_shuffled = np.asarray(y_raw)[shuffle_indices]\n",
    "# Split train/test set\n",
    "# TODO: This is very crude, should use cross-validation\n",
    "x_raw_train, x_raw_test = x_raw_shuffled[:-1000], x_raw_shuffled[-1000:]\n",
    "y_raw_train, y_raw_test = y_raw_shuffled[:-1000], y_raw_shuffled[-1000:]"
   ]
  },
  {
   "cell_type": "code",
   "execution_count": null,
   "metadata": {
    "collapsed": true
   },
   "outputs": [],
   "source": [
    "from sklearn.feature_extraction.text import CountVectorizer\n",
    "vectorizer = CountVectorizer(min_df=1)\n",
    "X_train_count = vectorizer.fit_transform(list(x_raw_train))"
   ]
  },
  {
   "cell_type": "code",
   "execution_count": null,
   "metadata": {
    "collapsed": false
   },
   "outputs": [],
   "source": [
    "from sklearn.feature_extraction.text import TfidfTransformer\n",
    "tfidf_transformer = TfidfTransformer()\n",
    "X_train_tfidf = tfidf_transformer.fit_transform(X_train_count)\n",
    "X_train_tfidf.shape"
   ]
  },
  {
   "cell_type": "code",
   "execution_count": null,
   "metadata": {
    "collapsed": true
   },
   "outputs": [],
   "source": [
    "from sklearn.naive_bayes import MultinomialNB\n",
    "clf = MultinomialNB().fit(X_train_tfidf, y_raw_train)"
   ]
  },
  {
   "cell_type": "code",
   "execution_count": null,
   "metadata": {
    "collapsed": false
   },
   "outputs": [],
   "source": [
    "X_new_counts = vectorizer.transform(list(x_raw_test))\n",
    "X_new_tfidf = tfidf_transformer.transform(X_new_counts)\n",
    "\n",
    "predicted = clf.predict(X_new_tfidf)\n",
    "\n",
    "for doc, category in zip(list(x_raw_test), predicted):\n",
    "    print('%r => %s' % (doc, y_raw_test[category]))"
   ]
  },
  {
   "cell_type": "code",
   "execution_count": null,
   "metadata": {
    "collapsed": false
   },
   "outputs": [],
   "source": [
    "# Prediction accuracy\n",
    "np.mean(predicted==y_raw_test)"
   ]
  },
  {
   "cell_type": "code",
   "execution_count": null,
   "metadata": {
    "collapsed": false
   },
   "outputs": [],
   "source": [
    "# Training accuracy\n",
    "np.mean(x_raw_test)"
   ]
  },
  {
   "cell_type": "code",
   "execution_count": null,
   "metadata": {
    "collapsed": false
   },
   "outputs": [],
   "source": [
    "y_raw_test"
   ]
  },
  {
   "cell_type": "code",
   "execution_count": 213,
   "metadata": {
    "collapsed": false
   },
   "outputs": [
    {
     "data": {
      "text/plain": [
       "0.68600000000000005"
      ]
     },
     "execution_count": 213,
     "metadata": {},
     "output_type": "execute_result"
    }
   ],
   "source": [
    "from sklearn.pipeline import Pipeline\n",
    "from sklearn.linear_model import SGDClassifier\n",
    "text_clf = Pipeline([('vect', CountVectorizer()),\n",
    "                     ('tfidf', TfidfTransformer()),\n",
    "                     ('clf', SGDClassifier(loss='squared_hinge', penalty='l2',\n",
    "                                           alpha=1e-3, n_iter=5, random_state=42)),\n",
    "])\n",
    "_ = text_clf.fit(list(x_raw_train), y_raw_train)\n",
    "predicted_svm = text_clf.predict(x_raw_test)\n",
    "np.mean(predicted_svm == y_raw_test)"
   ]
  },
  {
   "cell_type": "code",
   "execution_count": 115,
   "metadata": {
    "collapsed": false
   },
   "outputs": [
    {
     "data": {
      "text/plain": [
       "array([6, 8, 9, ..., 9, 4, 4])"
      ]
     },
     "execution_count": 115,
     "metadata": {},
     "output_type": "execute_result"
    }
   ],
   "source": [
    "y_raw_train"
   ]
  },
  {
   "cell_type": "code",
   "execution_count": 117,
   "metadata": {
    "collapsed": false
   },
   "outputs": [
    {
     "data": {
      "text/plain": [
       "Pipeline(steps=[('vect', CountVectorizer(analyzer=u'word', binary=False, decode_error=u'strict',\n",
       "        dtype=<type 'numpy.int64'>, encoding=u'utf-8', input=u'content',\n",
       "        lowercase=True, max_df=1.0, max_features=None, min_df=1,\n",
       "        ngram_range=(1, 1), preprocessor=None, stop_words=None,\n",
       "        st...     penalty='l2', power_t=0.5, random_state=42, shuffle=True, verbose=0,\n",
       "       warm_start=False))])"
      ]
     },
     "execution_count": 117,
     "metadata": {},
     "output_type": "execute_result"
    }
   ],
   "source": [
    "text_clf"
   ]
  },
  {
   "cell_type": "code",
   "execution_count": 118,
   "metadata": {
    "collapsed": false
   },
   "outputs": [
    {
     "data": {
      "text/plain": [
       "0.86333333333333329"
      ]
     },
     "execution_count": 118,
     "metadata": {},
     "output_type": "execute_result"
    }
   ],
   "source": [
    "# Accuracy on training set\n",
    "np.mean(text_clf.predict(x_raw_train) == y_raw_train)"
   ]
  },
  {
   "cell_type": "markdown",
   "metadata": {},
   "source": [
    "###### It means more data should be fed to tackle overfitting!"
   ]
  },
  {
   "cell_type": "code",
   "execution_count": 204,
   "metadata": {
    "collapsed": false
   },
   "outputs": [
    {
     "name": "stderr",
     "output_type": "stream",
     "text": [
      "INFO:plosdata:10000 documents to be saved for the subject: Biology and life sciences\n",
      "INFO:prototype.plosapi:making request to http://api.plos.org/search?fq=doc_type%3Afull%20AND%20article_type%3A%22research%20article%22&rows=500&q=subject%3A%22Biology%20and%20life%20sciences%22&start=0&wt=json&api_key=a1TjkHdh2NzVd6jhsDzM\n",
      "INFO:prototype.plosapi:making request to http://api.plos.org/search?fq=doc_type%3Afull%20AND%20article_type%3A%22research%20article%22&rows=500&q=subject%3A%22Biology%20and%20life%20sciences%22&start=500&wt=json&api_key=a1TjkHdh2NzVd6jhsDzM\n",
      "INFO:prototype.plosapi:making request to http://api.plos.org/search?fq=doc_type%3Afull%20AND%20article_type%3A%22research%20article%22&rows=500&q=subject%3A%22Biology%20and%20life%20sciences%22&start=1000&wt=json&api_key=a1TjkHdh2NzVd6jhsDzM\n",
      "INFO:prototype.plosapi:making request to http://api.plos.org/search?fq=doc_type%3Afull%20AND%20article_type%3A%22research%20article%22&rows=500&q=subject%3A%22Biology%20and%20life%20sciences%22&start=1500&wt=json&api_key=a1TjkHdh2NzVd6jhsDzM\n",
      "INFO:prototype.plosapi:making request to http://api.plos.org/search?fq=doc_type%3Afull%20AND%20article_type%3A%22research%20article%22&rows=500&q=subject%3A%22Biology%20and%20life%20sciences%22&start=2000&wt=json&api_key=a1TjkHdh2NzVd6jhsDzM\n",
      "INFO:prototype.plosapi:making request to http://api.plos.org/search?fq=doc_type%3Afull%20AND%20article_type%3A%22research%20article%22&rows=500&q=subject%3A%22Biology%20and%20life%20sciences%22&start=2500&wt=json&api_key=a1TjkHdh2NzVd6jhsDzM\n",
      "INFO:prototype.plosapi:making request to http://api.plos.org/search?fq=doc_type%3Afull%20AND%20article_type%3A%22research%20article%22&rows=500&q=subject%3A%22Biology%20and%20life%20sciences%22&start=3000&wt=json&api_key=a1TjkHdh2NzVd6jhsDzM\n",
      "INFO:prototype.plosapi:making request to http://api.plos.org/search?fq=doc_type%3Afull%20AND%20article_type%3A%22research%20article%22&rows=500&q=subject%3A%22Biology%20and%20life%20sciences%22&start=3500&wt=json&api_key=a1TjkHdh2NzVd6jhsDzM\n",
      "INFO:prototype.plosapi:making request to http://api.plos.org/search?fq=doc_type%3Afull%20AND%20article_type%3A%22research%20article%22&rows=500&q=subject%3A%22Biology%20and%20life%20sciences%22&start=4000&wt=json&api_key=a1TjkHdh2NzVd6jhsDzM\n",
      "INFO:prototype.plosapi:making request to http://api.plos.org/search?fq=doc_type%3Afull%20AND%20article_type%3A%22research%20article%22&rows=500&q=subject%3A%22Biology%20and%20life%20sciences%22&start=4500&wt=json&api_key=a1TjkHdh2NzVd6jhsDzM\n",
      "INFO:prototype.plosapi:making request to http://api.plos.org/search?fq=doc_type%3Afull%20AND%20article_type%3A%22research%20article%22&rows=500&q=subject%3A%22Biology%20and%20life%20sciences%22&start=5000&wt=json&api_key=a1TjkHdh2NzVd6jhsDzM\n",
      "INFO:prototype.plosapi:making request to http://api.plos.org/search?fq=doc_type%3Afull%20AND%20article_type%3A%22research%20article%22&rows=500&q=subject%3A%22Biology%20and%20life%20sciences%22&start=5500&wt=json&api_key=a1TjkHdh2NzVd6jhsDzM\n",
      "INFO:prototype.plosapi:making request to http://api.plos.org/search?fq=doc_type%3Afull%20AND%20article_type%3A%22research%20article%22&rows=500&q=subject%3A%22Biology%20and%20life%20sciences%22&start=6000&wt=json&api_key=a1TjkHdh2NzVd6jhsDzM\n",
      "INFO:prototype.plosapi:making request to http://api.plos.org/search?fq=doc_type%3Afull%20AND%20article_type%3A%22research%20article%22&rows=500&q=subject%3A%22Biology%20and%20life%20sciences%22&start=6500&wt=json&api_key=a1TjkHdh2NzVd6jhsDzM\n",
      "INFO:prototype.plosapi:making request to http://api.plos.org/search?fq=doc_type%3Afull%20AND%20article_type%3A%22research%20article%22&rows=500&q=subject%3A%22Biology%20and%20life%20sciences%22&start=7000&wt=json&api_key=a1TjkHdh2NzVd6jhsDzM\n",
      "INFO:prototype.plosapi:making request to http://api.plos.org/search?fq=doc_type%3Afull%20AND%20article_type%3A%22research%20article%22&rows=500&q=subject%3A%22Biology%20and%20life%20sciences%22&start=7500&wt=json&api_key=a1TjkHdh2NzVd6jhsDzM\n",
      "INFO:prototype.plosapi:making request to http://api.plos.org/search?fq=doc_type%3Afull%20AND%20article_type%3A%22research%20article%22&rows=500&q=subject%3A%22Biology%20and%20life%20sciences%22&start=8000&wt=json&api_key=a1TjkHdh2NzVd6jhsDzM\n",
      "INFO:prototype.plosapi:making request to http://api.plos.org/search?fq=doc_type%3Afull%20AND%20article_type%3A%22research%20article%22&rows=500&q=subject%3A%22Biology%20and%20life%20sciences%22&start=8500&wt=json&api_key=a1TjkHdh2NzVd6jhsDzM\n",
      "INFO:prototype.plosapi:making request to http://api.plos.org/search?fq=doc_type%3Afull%20AND%20article_type%3A%22research%20article%22&rows=500&q=subject%3A%22Biology%20and%20life%20sciences%22&start=9000&wt=json&api_key=a1TjkHdh2NzVd6jhsDzM\n",
      "INFO:prototype.plosapi:making request to http://api.plos.org/search?fq=doc_type%3Afull%20AND%20article_type%3A%22research%20article%22&rows=500&q=subject%3A%22Biology%20and%20life%20sciences%22&start=9500&wt=json&api_key=a1TjkHdh2NzVd6jhsDzM\n",
      "INFO:plosdata:10000 results returned in 3.032466 hours.\n",
      "INFO:plosdata:10000 documents to be saved for the subject: Computer and information sciences\n",
      "INFO:prototype.plosapi:making request to http://api.plos.org/search?fq=doc_type%3Afull%20AND%20article_type%3A%22research%20article%22&rows=500&q=subject%3A%22Computer%20and%20information%20sciences%22&start=0&wt=json&api_key=a1TjkHdh2NzVd6jhsDzM\n",
      "INFO:prototype.plosapi:making request to http://api.plos.org/search?fq=doc_type%3Afull%20AND%20article_type%3A%22research%20article%22&rows=500&q=subject%3A%22Computer%20and%20information%20sciences%22&start=500&wt=json&api_key=a1TjkHdh2NzVd6jhsDzM\n",
      "INFO:prototype.plosapi:making request to http://api.plos.org/search?fq=doc_type%3Afull%20AND%20article_type%3A%22research%20article%22&rows=500&q=subject%3A%22Computer%20and%20information%20sciences%22&start=1000&wt=json&api_key=a1TjkHdh2NzVd6jhsDzM\n",
      "INFO:prototype.plosapi:making request to http://api.plos.org/search?fq=doc_type%3Afull%20AND%20article_type%3A%22research%20article%22&rows=500&q=subject%3A%22Computer%20and%20information%20sciences%22&start=1500&wt=json&api_key=a1TjkHdh2NzVd6jhsDzM\n",
      "INFO:prototype.plosapi:making request to http://api.plos.org/search?fq=doc_type%3Afull%20AND%20article_type%3A%22research%20article%22&rows=500&q=subject%3A%22Computer%20and%20information%20sciences%22&start=2000&wt=json&api_key=a1TjkHdh2NzVd6jhsDzM\n",
      "INFO:prototype.plosapi:making request to http://api.plos.org/search?fq=doc_type%3Afull%20AND%20article_type%3A%22research%20article%22&rows=500&q=subject%3A%22Computer%20and%20information%20sciences%22&start=2500&wt=json&api_key=a1TjkHdh2NzVd6jhsDzM\n",
      "INFO:prototype.plosapi:making request to http://api.plos.org/search?fq=doc_type%3Afull%20AND%20article_type%3A%22research%20article%22&rows=500&q=subject%3A%22Computer%20and%20information%20sciences%22&start=3000&wt=json&api_key=a1TjkHdh2NzVd6jhsDzM\n",
      "INFO:prototype.plosapi:making request to http://api.plos.org/search?fq=doc_type%3Afull%20AND%20article_type%3A%22research%20article%22&rows=500&q=subject%3A%22Computer%20and%20information%20sciences%22&start=3500&wt=json&api_key=a1TjkHdh2NzVd6jhsDzM\n",
      "INFO:prototype.plosapi:making request to http://api.plos.org/search?fq=doc_type%3Afull%20AND%20article_type%3A%22research%20article%22&rows=500&q=subject%3A%22Computer%20and%20information%20sciences%22&start=4000&wt=json&api_key=a1TjkHdh2NzVd6jhsDzM\n",
      "INFO:prototype.plosapi:making request to http://api.plos.org/search?fq=doc_type%3Afull%20AND%20article_type%3A%22research%20article%22&rows=500&q=subject%3A%22Computer%20and%20information%20sciences%22&start=4500&wt=json&api_key=a1TjkHdh2NzVd6jhsDzM\n",
      "INFO:prototype.plosapi:making request to http://api.plos.org/search?fq=doc_type%3Afull%20AND%20article_type%3A%22research%20article%22&rows=500&q=subject%3A%22Computer%20and%20information%20sciences%22&start=5000&wt=json&api_key=a1TjkHdh2NzVd6jhsDzM\n",
      "INFO:prototype.plosapi:making request to http://api.plos.org/search?fq=doc_type%3Afull%20AND%20article_type%3A%22research%20article%22&rows=500&q=subject%3A%22Computer%20and%20information%20sciences%22&start=5500&wt=json&api_key=a1TjkHdh2NzVd6jhsDzM\n",
      "INFO:prototype.plosapi:making request to http://api.plos.org/search?fq=doc_type%3Afull%20AND%20article_type%3A%22research%20article%22&rows=500&q=subject%3A%22Computer%20and%20information%20sciences%22&start=6000&wt=json&api_key=a1TjkHdh2NzVd6jhsDzM\n",
      "INFO:prototype.plosapi:making request to http://api.plos.org/search?fq=doc_type%3Afull%20AND%20article_type%3A%22research%20article%22&rows=500&q=subject%3A%22Computer%20and%20information%20sciences%22&start=6500&wt=json&api_key=a1TjkHdh2NzVd6jhsDzM\n",
      "INFO:prototype.plosapi:making request to http://api.plos.org/search?fq=doc_type%3Afull%20AND%20article_type%3A%22research%20article%22&rows=500&q=subject%3A%22Computer%20and%20information%20sciences%22&start=7000&wt=json&api_key=a1TjkHdh2NzVd6jhsDzM\n",
      "INFO:prototype.plosapi:making request to http://api.plos.org/search?fq=doc_type%3Afull%20AND%20article_type%3A%22research%20article%22&rows=500&q=subject%3A%22Computer%20and%20information%20sciences%22&start=7500&wt=json&api_key=a1TjkHdh2NzVd6jhsDzM\n",
      "INFO:prototype.plosapi:making request to http://api.plos.org/search?fq=doc_type%3Afull%20AND%20article_type%3A%22research%20article%22&rows=500&q=subject%3A%22Computer%20and%20information%20sciences%22&start=8000&wt=json&api_key=a1TjkHdh2NzVd6jhsDzM\n",
      "INFO:prototype.plosapi:making request to http://api.plos.org/search?fq=doc_type%3Afull%20AND%20article_type%3A%22research%20article%22&rows=500&q=subject%3A%22Computer%20and%20information%20sciences%22&start=8500&wt=json&api_key=a1TjkHdh2NzVd6jhsDzM\n",
      "INFO:prototype.plosapi:making request to http://api.plos.org/search?fq=doc_type%3Afull%20AND%20article_type%3A%22research%20article%22&rows=500&q=subject%3A%22Computer%20and%20information%20sciences%22&start=9000&wt=json&api_key=a1TjkHdh2NzVd6jhsDzM\n",
      "INFO:prototype.plosapi:making request to http://api.plos.org/search?fq=doc_type%3Afull%20AND%20article_type%3A%22research%20article%22&rows=500&q=subject%3A%22Computer%20and%20information%20sciences%22&start=9500&wt=json&api_key=a1TjkHdh2NzVd6jhsDzM\n",
      "INFO:plosdata:10000 results returned in 2.800745 hours.\n",
      "INFO:plosdata:10000 documents to be saved for the subject: Earth sciences\n",
      "INFO:prototype.plosapi:making request to http://api.plos.org/search?fq=doc_type%3Afull%20AND%20article_type%3A%22research%20article%22&rows=500&q=subject%3A%22Earth%20sciences%22&start=0&wt=json&api_key=a1TjkHdh2NzVd6jhsDzM\n",
      "INFO:prototype.plosapi:making request to http://api.plos.org/search?fq=doc_type%3Afull%20AND%20article_type%3A%22research%20article%22&rows=500&q=subject%3A%22Earth%20sciences%22&start=500&wt=json&api_key=a1TjkHdh2NzVd6jhsDzM\n",
      "INFO:prototype.plosapi:making request to http://api.plos.org/search?fq=doc_type%3Afull%20AND%20article_type%3A%22research%20article%22&rows=500&q=subject%3A%22Earth%20sciences%22&start=1000&wt=json&api_key=a1TjkHdh2NzVd6jhsDzM\n",
      "INFO:prototype.plosapi:making request to http://api.plos.org/search?fq=doc_type%3Afull%20AND%20article_type%3A%22research%20article%22&rows=500&q=subject%3A%22Earth%20sciences%22&start=1500&wt=json&api_key=a1TjkHdh2NzVd6jhsDzM\n",
      "INFO:prototype.plosapi:making request to http://api.plos.org/search?fq=doc_type%3Afull%20AND%20article_type%3A%22research%20article%22&rows=500&q=subject%3A%22Earth%20sciences%22&start=2000&wt=json&api_key=a1TjkHdh2NzVd6jhsDzM\n",
      "INFO:prototype.plosapi:making request to http://api.plos.org/search?fq=doc_type%3Afull%20AND%20article_type%3A%22research%20article%22&rows=500&q=subject%3A%22Earth%20sciences%22&start=2500&wt=json&api_key=a1TjkHdh2NzVd6jhsDzM\n",
      "INFO:prototype.plosapi:making request to http://api.plos.org/search?fq=doc_type%3Afull%20AND%20article_type%3A%22research%20article%22&rows=500&q=subject%3A%22Earth%20sciences%22&start=3000&wt=json&api_key=a1TjkHdh2NzVd6jhsDzM\n",
      "INFO:prototype.plosapi:making request to http://api.plos.org/search?fq=doc_type%3Afull%20AND%20article_type%3A%22research%20article%22&rows=500&q=subject%3A%22Earth%20sciences%22&start=3500&wt=json&api_key=a1TjkHdh2NzVd6jhsDzM\n",
      "INFO:prototype.plosapi:making request to http://api.plos.org/search?fq=doc_type%3Afull%20AND%20article_type%3A%22research%20article%22&rows=500&q=subject%3A%22Earth%20sciences%22&start=4000&wt=json&api_key=a1TjkHdh2NzVd6jhsDzM\n",
      "INFO:prototype.plosapi:making request to http://api.plos.org/search?fq=doc_type%3Afull%20AND%20article_type%3A%22research%20article%22&rows=500&q=subject%3A%22Earth%20sciences%22&start=4500&wt=json&api_key=a1TjkHdh2NzVd6jhsDzM\n",
      "INFO:prototype.plosapi:making request to http://api.plos.org/search?fq=doc_type%3Afull%20AND%20article_type%3A%22research%20article%22&rows=500&q=subject%3A%22Earth%20sciences%22&start=5000&wt=json&api_key=a1TjkHdh2NzVd6jhsDzM\n",
      "INFO:prototype.plosapi:making request to http://api.plos.org/search?fq=doc_type%3Afull%20AND%20article_type%3A%22research%20article%22&rows=500&q=subject%3A%22Earth%20sciences%22&start=5500&wt=json&api_key=a1TjkHdh2NzVd6jhsDzM\n",
      "INFO:prototype.plosapi:making request to http://api.plos.org/search?fq=doc_type%3Afull%20AND%20article_type%3A%22research%20article%22&rows=500&q=subject%3A%22Earth%20sciences%22&start=6000&wt=json&api_key=a1TjkHdh2NzVd6jhsDzM\n",
      "INFO:prototype.plosapi:making request to http://api.plos.org/search?fq=doc_type%3Afull%20AND%20article_type%3A%22research%20article%22&rows=500&q=subject%3A%22Earth%20sciences%22&start=6500&wt=json&api_key=a1TjkHdh2NzVd6jhsDzM\n",
      "INFO:prototype.plosapi:making request to http://api.plos.org/search?fq=doc_type%3Afull%20AND%20article_type%3A%22research%20article%22&rows=500&q=subject%3A%22Earth%20sciences%22&start=7000&wt=json&api_key=a1TjkHdh2NzVd6jhsDzM\n",
      "INFO:prototype.plosapi:making request to http://api.plos.org/search?fq=doc_type%3Afull%20AND%20article_type%3A%22research%20article%22&rows=500&q=subject%3A%22Earth%20sciences%22&start=7500&wt=json&api_key=a1TjkHdh2NzVd6jhsDzM\n",
      "INFO:prototype.plosapi:making request to http://api.plos.org/search?fq=doc_type%3Afull%20AND%20article_type%3A%22research%20article%22&rows=500&q=subject%3A%22Earth%20sciences%22&start=8000&wt=json&api_key=a1TjkHdh2NzVd6jhsDzM\n",
      "INFO:prototype.plosapi:making request to http://api.plos.org/search?fq=doc_type%3Afull%20AND%20article_type%3A%22research%20article%22&rows=500&q=subject%3A%22Earth%20sciences%22&start=8500&wt=json&api_key=a1TjkHdh2NzVd6jhsDzM\n",
      "INFO:prototype.plosapi:making request to http://api.plos.org/search?fq=doc_type%3Afull%20AND%20article_type%3A%22research%20article%22&rows=500&q=subject%3A%22Earth%20sciences%22&start=9000&wt=json&api_key=a1TjkHdh2NzVd6jhsDzM\n",
      "INFO:prototype.plosapi:making request to http://api.plos.org/search?fq=doc_type%3Afull%20AND%20article_type%3A%22research%20article%22&rows=500&q=subject%3A%22Earth%20sciences%22&start=9500&wt=json&api_key=a1TjkHdh2NzVd6jhsDzM\n",
      "INFO:plosdata:10000 results returned in 3.135159 hours.\n",
      "INFO:plosdata:10000 documents to be saved for the subject: Ecology and environmental sciences\n",
      "INFO:prototype.plosapi:making request to http://api.plos.org/search?fq=doc_type%3Afull%20AND%20article_type%3A%22research%20article%22&rows=500&q=subject%3A%22Ecology%20and%20environmental%20sciences%22&start=0&wt=json&api_key=a1TjkHdh2NzVd6jhsDzM\n",
      "INFO:prototype.plosapi:making request to http://api.plos.org/search?fq=doc_type%3Afull%20AND%20article_type%3A%22research%20article%22&rows=500&q=subject%3A%22Ecology%20and%20environmental%20sciences%22&start=500&wt=json&api_key=a1TjkHdh2NzVd6jhsDzM\n",
      "INFO:prototype.plosapi:making request to http://api.plos.org/search?fq=doc_type%3Afull%20AND%20article_type%3A%22research%20article%22&rows=500&q=subject%3A%22Ecology%20and%20environmental%20sciences%22&start=1000&wt=json&api_key=a1TjkHdh2NzVd6jhsDzM\n",
      "INFO:prototype.plosapi:making request to http://api.plos.org/search?fq=doc_type%3Afull%20AND%20article_type%3A%22research%20article%22&rows=500&q=subject%3A%22Ecology%20and%20environmental%20sciences%22&start=1500&wt=json&api_key=a1TjkHdh2NzVd6jhsDzM\n",
      "INFO:prototype.plosapi:making request to http://api.plos.org/search?fq=doc_type%3Afull%20AND%20article_type%3A%22research%20article%22&rows=500&q=subject%3A%22Ecology%20and%20environmental%20sciences%22&start=2000&wt=json&api_key=a1TjkHdh2NzVd6jhsDzM\n",
      "INFO:prototype.plosapi:making request to http://api.plos.org/search?fq=doc_type%3Afull%20AND%20article_type%3A%22research%20article%22&rows=500&q=subject%3A%22Ecology%20and%20environmental%20sciences%22&start=2500&wt=json&api_key=a1TjkHdh2NzVd6jhsDzM\n",
      "INFO:prototype.plosapi:making request to http://api.plos.org/search?fq=doc_type%3Afull%20AND%20article_type%3A%22research%20article%22&rows=500&q=subject%3A%22Ecology%20and%20environmental%20sciences%22&start=3000&wt=json&api_key=a1TjkHdh2NzVd6jhsDzM\n",
      "INFO:prototype.plosapi:making request to http://api.plos.org/search?fq=doc_type%3Afull%20AND%20article_type%3A%22research%20article%22&rows=500&q=subject%3A%22Ecology%20and%20environmental%20sciences%22&start=3500&wt=json&api_key=a1TjkHdh2NzVd6jhsDzM\n",
      "INFO:prototype.plosapi:making request to http://api.plos.org/search?fq=doc_type%3Afull%20AND%20article_type%3A%22research%20article%22&rows=500&q=subject%3A%22Ecology%20and%20environmental%20sciences%22&start=4000&wt=json&api_key=a1TjkHdh2NzVd6jhsDzM\n",
      "INFO:prototype.plosapi:making request to http://api.plos.org/search?fq=doc_type%3Afull%20AND%20article_type%3A%22research%20article%22&rows=500&q=subject%3A%22Ecology%20and%20environmental%20sciences%22&start=4500&wt=json&api_key=a1TjkHdh2NzVd6jhsDzM\n",
      "INFO:prototype.plosapi:making request to http://api.plos.org/search?fq=doc_type%3Afull%20AND%20article_type%3A%22research%20article%22&rows=500&q=subject%3A%22Ecology%20and%20environmental%20sciences%22&start=5000&wt=json&api_key=a1TjkHdh2NzVd6jhsDzM\n",
      "INFO:prototype.plosapi:making request to http://api.plos.org/search?fq=doc_type%3Afull%20AND%20article_type%3A%22research%20article%22&rows=500&q=subject%3A%22Ecology%20and%20environmental%20sciences%22&start=5500&wt=json&api_key=a1TjkHdh2NzVd6jhsDzM\n",
      "INFO:prototype.plosapi:making request to http://api.plos.org/search?fq=doc_type%3Afull%20AND%20article_type%3A%22research%20article%22&rows=500&q=subject%3A%22Ecology%20and%20environmental%20sciences%22&start=6000&wt=json&api_key=a1TjkHdh2NzVd6jhsDzM\n",
      "INFO:prototype.plosapi:making request to http://api.plos.org/search?fq=doc_type%3Afull%20AND%20article_type%3A%22research%20article%22&rows=500&q=subject%3A%22Ecology%20and%20environmental%20sciences%22&start=6500&wt=json&api_key=a1TjkHdh2NzVd6jhsDzM\n",
      "INFO:prototype.plosapi:making request to http://api.plos.org/search?fq=doc_type%3Afull%20AND%20article_type%3A%22research%20article%22&rows=500&q=subject%3A%22Ecology%20and%20environmental%20sciences%22&start=7000&wt=json&api_key=a1TjkHdh2NzVd6jhsDzM\n",
      "INFO:prototype.plosapi:making request to http://api.plos.org/search?fq=doc_type%3Afull%20AND%20article_type%3A%22research%20article%22&rows=500&q=subject%3A%22Ecology%20and%20environmental%20sciences%22&start=7500&wt=json&api_key=a1TjkHdh2NzVd6jhsDzM\n",
      "INFO:prototype.plosapi:making request to http://api.plos.org/search?fq=doc_type%3Afull%20AND%20article_type%3A%22research%20article%22&rows=500&q=subject%3A%22Ecology%20and%20environmental%20sciences%22&start=8000&wt=json&api_key=a1TjkHdh2NzVd6jhsDzM\n",
      "INFO:prototype.plosapi:making request to http://api.plos.org/search?fq=doc_type%3Afull%20AND%20article_type%3A%22research%20article%22&rows=500&q=subject%3A%22Ecology%20and%20environmental%20sciences%22&start=8500&wt=json&api_key=a1TjkHdh2NzVd6jhsDzM\n",
      "INFO:prototype.plosapi:making request to http://api.plos.org/search?fq=doc_type%3Afull%20AND%20article_type%3A%22research%20article%22&rows=500&q=subject%3A%22Ecology%20and%20environmental%20sciences%22&start=9000&wt=json&api_key=a1TjkHdh2NzVd6jhsDzM\n",
      "INFO:prototype.plosapi:making request to http://api.plos.org/search?fq=doc_type%3Afull%20AND%20article_type%3A%22research%20article%22&rows=500&q=subject%3A%22Ecology%20and%20environmental%20sciences%22&start=9500&wt=json&api_key=a1TjkHdh2NzVd6jhsDzM\n",
      "INFO:plosdata:10000 results returned in 2.785302 hours.\n",
      "INFO:plosdata:10000 documents to be saved for the subject: Engineering and technology\n",
      "INFO:prototype.plosapi:making request to http://api.plos.org/search?fq=doc_type%3Afull%20AND%20article_type%3A%22research%20article%22&rows=500&q=subject%3A%22Engineering%20and%20technology%22&start=0&wt=json&api_key=a1TjkHdh2NzVd6jhsDzM\n",
      "INFO:prototype.plosapi:making request to http://api.plos.org/search?fq=doc_type%3Afull%20AND%20article_type%3A%22research%20article%22&rows=500&q=subject%3A%22Engineering%20and%20technology%22&start=500&wt=json&api_key=a1TjkHdh2NzVd6jhsDzM\n",
      "INFO:prototype.plosapi:making request to http://api.plos.org/search?fq=doc_type%3Afull%20AND%20article_type%3A%22research%20article%22&rows=500&q=subject%3A%22Engineering%20and%20technology%22&start=1000&wt=json&api_key=a1TjkHdh2NzVd6jhsDzM\n",
      "INFO:prototype.plosapi:making request to http://api.plos.org/search?fq=doc_type%3Afull%20AND%20article_type%3A%22research%20article%22&rows=500&q=subject%3A%22Engineering%20and%20technology%22&start=1500&wt=json&api_key=a1TjkHdh2NzVd6jhsDzM\n",
      "INFO:prototype.plosapi:making request to http://api.plos.org/search?fq=doc_type%3Afull%20AND%20article_type%3A%22research%20article%22&rows=500&q=subject%3A%22Engineering%20and%20technology%22&start=2000&wt=json&api_key=a1TjkHdh2NzVd6jhsDzM\n",
      "INFO:prototype.plosapi:making request to http://api.plos.org/search?fq=doc_type%3Afull%20AND%20article_type%3A%22research%20article%22&rows=500&q=subject%3A%22Engineering%20and%20technology%22&start=2500&wt=json&api_key=a1TjkHdh2NzVd6jhsDzM\n",
      "INFO:prototype.plosapi:making request to http://api.plos.org/search?fq=doc_type%3Afull%20AND%20article_type%3A%22research%20article%22&rows=500&q=subject%3A%22Engineering%20and%20technology%22&start=3000&wt=json&api_key=a1TjkHdh2NzVd6jhsDzM\n",
      "INFO:prototype.plosapi:making request to http://api.plos.org/search?fq=doc_type%3Afull%20AND%20article_type%3A%22research%20article%22&rows=500&q=subject%3A%22Engineering%20and%20technology%22&start=3500&wt=json&api_key=a1TjkHdh2NzVd6jhsDzM\n",
      "INFO:prototype.plosapi:making request to http://api.plos.org/search?fq=doc_type%3Afull%20AND%20article_type%3A%22research%20article%22&rows=500&q=subject%3A%22Engineering%20and%20technology%22&start=4000&wt=json&api_key=a1TjkHdh2NzVd6jhsDzM\n",
      "INFO:prototype.plosapi:making request to http://api.plos.org/search?fq=doc_type%3Afull%20AND%20article_type%3A%22research%20article%22&rows=500&q=subject%3A%22Engineering%20and%20technology%22&start=4500&wt=json&api_key=a1TjkHdh2NzVd6jhsDzM\n",
      "INFO:prototype.plosapi:making request to http://api.plos.org/search?fq=doc_type%3Afull%20AND%20article_type%3A%22research%20article%22&rows=500&q=subject%3A%22Engineering%20and%20technology%22&start=5000&wt=json&api_key=a1TjkHdh2NzVd6jhsDzM\n",
      "INFO:prototype.plosapi:making request to http://api.plos.org/search?fq=doc_type%3Afull%20AND%20article_type%3A%22research%20article%22&rows=500&q=subject%3A%22Engineering%20and%20technology%22&start=5500&wt=json&api_key=a1TjkHdh2NzVd6jhsDzM\n",
      "INFO:prototype.plosapi:making request to http://api.plos.org/search?fq=doc_type%3Afull%20AND%20article_type%3A%22research%20article%22&rows=500&q=subject%3A%22Engineering%20and%20technology%22&start=6000&wt=json&api_key=a1TjkHdh2NzVd6jhsDzM\n",
      "INFO:prototype.plosapi:making request to http://api.plos.org/search?fq=doc_type%3Afull%20AND%20article_type%3A%22research%20article%22&rows=500&q=subject%3A%22Engineering%20and%20technology%22&start=6500&wt=json&api_key=a1TjkHdh2NzVd6jhsDzM\n",
      "INFO:prototype.plosapi:making request to http://api.plos.org/search?fq=doc_type%3Afull%20AND%20article_type%3A%22research%20article%22&rows=500&q=subject%3A%22Engineering%20and%20technology%22&start=7000&wt=json&api_key=a1TjkHdh2NzVd6jhsDzM\n",
      "INFO:prototype.plosapi:making request to http://api.plos.org/search?fq=doc_type%3Afull%20AND%20article_type%3A%22research%20article%22&rows=500&q=subject%3A%22Engineering%20and%20technology%22&start=7500&wt=json&api_key=a1TjkHdh2NzVd6jhsDzM\n",
      "INFO:prototype.plosapi:making request to http://api.plos.org/search?fq=doc_type%3Afull%20AND%20article_type%3A%22research%20article%22&rows=500&q=subject%3A%22Engineering%20and%20technology%22&start=8000&wt=json&api_key=a1TjkHdh2NzVd6jhsDzM\n",
      "INFO:prototype.plosapi:making request to http://api.plos.org/search?fq=doc_type%3Afull%20AND%20article_type%3A%22research%20article%22&rows=500&q=subject%3A%22Engineering%20and%20technology%22&start=8500&wt=json&api_key=a1TjkHdh2NzVd6jhsDzM\n",
      "INFO:prototype.plosapi:making request to http://api.plos.org/search?fq=doc_type%3Afull%20AND%20article_type%3A%22research%20article%22&rows=500&q=subject%3A%22Engineering%20and%20technology%22&start=9000&wt=json&api_key=a1TjkHdh2NzVd6jhsDzM\n",
      "INFO:prototype.plosapi:making request to http://api.plos.org/search?fq=doc_type%3Afull%20AND%20article_type%3A%22research%20article%22&rows=500&q=subject%3A%22Engineering%20and%20technology%22&start=9500&wt=json&api_key=a1TjkHdh2NzVd6jhsDzM\n",
      "INFO:plosdata:10000 results returned in 2.776996 hours.\n",
      "INFO:plosdata:10000 documents to be saved for the subject: Medicine and health sciences\n",
      "INFO:prototype.plosapi:making request to http://api.plos.org/search?fq=doc_type%3Afull%20AND%20article_type%3A%22research%20article%22&rows=500&q=subject%3A%22Medicine%20and%20health%20sciences%22&start=0&wt=json&api_key=a1TjkHdh2NzVd6jhsDzM\n",
      "INFO:prototype.plosapi:making request to http://api.plos.org/search?fq=doc_type%3Afull%20AND%20article_type%3A%22research%20article%22&rows=500&q=subject%3A%22Medicine%20and%20health%20sciences%22&start=500&wt=json&api_key=a1TjkHdh2NzVd6jhsDzM\n",
      "INFO:prototype.plosapi:making request to http://api.plos.org/search?fq=doc_type%3Afull%20AND%20article_type%3A%22research%20article%22&rows=500&q=subject%3A%22Medicine%20and%20health%20sciences%22&start=1000&wt=json&api_key=a1TjkHdh2NzVd6jhsDzM\n",
      "INFO:prototype.plosapi:making request to http://api.plos.org/search?fq=doc_type%3Afull%20AND%20article_type%3A%22research%20article%22&rows=500&q=subject%3A%22Medicine%20and%20health%20sciences%22&start=1500&wt=json&api_key=a1TjkHdh2NzVd6jhsDzM\n",
      "INFO:prototype.plosapi:making request to http://api.plos.org/search?fq=doc_type%3Afull%20AND%20article_type%3A%22research%20article%22&rows=500&q=subject%3A%22Medicine%20and%20health%20sciences%22&start=2000&wt=json&api_key=a1TjkHdh2NzVd6jhsDzM\n",
      "INFO:prototype.plosapi:making request to http://api.plos.org/search?fq=doc_type%3Afull%20AND%20article_type%3A%22research%20article%22&rows=500&q=subject%3A%22Medicine%20and%20health%20sciences%22&start=2500&wt=json&api_key=a1TjkHdh2NzVd6jhsDzM\n",
      "INFO:prototype.plosapi:making request to http://api.plos.org/search?fq=doc_type%3Afull%20AND%20article_type%3A%22research%20article%22&rows=500&q=subject%3A%22Medicine%20and%20health%20sciences%22&start=3000&wt=json&api_key=a1TjkHdh2NzVd6jhsDzM\n",
      "INFO:prototype.plosapi:making request to http://api.plos.org/search?fq=doc_type%3Afull%20AND%20article_type%3A%22research%20article%22&rows=500&q=subject%3A%22Medicine%20and%20health%20sciences%22&start=3500&wt=json&api_key=a1TjkHdh2NzVd6jhsDzM\n",
      "INFO:prototype.plosapi:making request to http://api.plos.org/search?fq=doc_type%3Afull%20AND%20article_type%3A%22research%20article%22&rows=500&q=subject%3A%22Medicine%20and%20health%20sciences%22&start=4000&wt=json&api_key=a1TjkHdh2NzVd6jhsDzM\n",
      "INFO:prototype.plosapi:making request to http://api.plos.org/search?fq=doc_type%3Afull%20AND%20article_type%3A%22research%20article%22&rows=500&q=subject%3A%22Medicine%20and%20health%20sciences%22&start=4500&wt=json&api_key=a1TjkHdh2NzVd6jhsDzM\n",
      "INFO:prototype.plosapi:making request to http://api.plos.org/search?fq=doc_type%3Afull%20AND%20article_type%3A%22research%20article%22&rows=500&q=subject%3A%22Medicine%20and%20health%20sciences%22&start=5000&wt=json&api_key=a1TjkHdh2NzVd6jhsDzM\n",
      "INFO:prototype.plosapi:making request to http://api.plos.org/search?fq=doc_type%3Afull%20AND%20article_type%3A%22research%20article%22&rows=500&q=subject%3A%22Medicine%20and%20health%20sciences%22&start=5500&wt=json&api_key=a1TjkHdh2NzVd6jhsDzM\n",
      "INFO:prototype.plosapi:making request to http://api.plos.org/search?fq=doc_type%3Afull%20AND%20article_type%3A%22research%20article%22&rows=500&q=subject%3A%22Medicine%20and%20health%20sciences%22&start=6000&wt=json&api_key=a1TjkHdh2NzVd6jhsDzM\n",
      "INFO:prototype.plosapi:making request to http://api.plos.org/search?fq=doc_type%3Afull%20AND%20article_type%3A%22research%20article%22&rows=500&q=subject%3A%22Medicine%20and%20health%20sciences%22&start=6500&wt=json&api_key=a1TjkHdh2NzVd6jhsDzM\n",
      "INFO:prototype.plosapi:making request to http://api.plos.org/search?fq=doc_type%3Afull%20AND%20article_type%3A%22research%20article%22&rows=500&q=subject%3A%22Medicine%20and%20health%20sciences%22&start=7000&wt=json&api_key=a1TjkHdh2NzVd6jhsDzM\n",
      "INFO:prototype.plosapi:making request to http://api.plos.org/search?fq=doc_type%3Afull%20AND%20article_type%3A%22research%20article%22&rows=500&q=subject%3A%22Medicine%20and%20health%20sciences%22&start=7500&wt=json&api_key=a1TjkHdh2NzVd6jhsDzM\n",
      "INFO:prototype.plosapi:making request to http://api.plos.org/search?fq=doc_type%3Afull%20AND%20article_type%3A%22research%20article%22&rows=500&q=subject%3A%22Medicine%20and%20health%20sciences%22&start=8000&wt=json&api_key=a1TjkHdh2NzVd6jhsDzM\n",
      "INFO:prototype.plosapi:making request to http://api.plos.org/search?fq=doc_type%3Afull%20AND%20article_type%3A%22research%20article%22&rows=500&q=subject%3A%22Medicine%20and%20health%20sciences%22&start=8500&wt=json&api_key=a1TjkHdh2NzVd6jhsDzM\n",
      "INFO:prototype.plosapi:making request to http://api.plos.org/search?fq=doc_type%3Afull%20AND%20article_type%3A%22research%20article%22&rows=500&q=subject%3A%22Medicine%20and%20health%20sciences%22&start=9000&wt=json&api_key=a1TjkHdh2NzVd6jhsDzM\n",
      "INFO:prototype.plosapi:making request to http://api.plos.org/search?fq=doc_type%3Afull%20AND%20article_type%3A%22research%20article%22&rows=500&q=subject%3A%22Medicine%20and%20health%20sciences%22&start=9500&wt=json&api_key=a1TjkHdh2NzVd6jhsDzM\n",
      "INFO:plosdata:10000 results returned in 3.122663 hours.\n",
      "INFO:plosdata:10000 documents to be saved for the subject: People and places\n",
      "INFO:prototype.plosapi:making request to http://api.plos.org/search?fq=doc_type%3Afull%20AND%20article_type%3A%22research%20article%22&rows=500&q=subject%3A%22People%20and%20places%22&start=0&wt=json&api_key=a1TjkHdh2NzVd6jhsDzM\n",
      "INFO:prototype.plosapi:making request to http://api.plos.org/search?fq=doc_type%3Afull%20AND%20article_type%3A%22research%20article%22&rows=500&q=subject%3A%22People%20and%20places%22&start=500&wt=json&api_key=a1TjkHdh2NzVd6jhsDzM\n",
      "INFO:prototype.plosapi:making request to http://api.plos.org/search?fq=doc_type%3Afull%20AND%20article_type%3A%22research%20article%22&rows=500&q=subject%3A%22People%20and%20places%22&start=1000&wt=json&api_key=a1TjkHdh2NzVd6jhsDzM\n",
      "INFO:prototype.plosapi:making request to http://api.plos.org/search?fq=doc_type%3Afull%20AND%20article_type%3A%22research%20article%22&rows=500&q=subject%3A%22People%20and%20places%22&start=1500&wt=json&api_key=a1TjkHdh2NzVd6jhsDzM\n",
      "INFO:prototype.plosapi:making request to http://api.plos.org/search?fq=doc_type%3Afull%20AND%20article_type%3A%22research%20article%22&rows=500&q=subject%3A%22People%20and%20places%22&start=2000&wt=json&api_key=a1TjkHdh2NzVd6jhsDzM\n",
      "INFO:prototype.plosapi:making request to http://api.plos.org/search?fq=doc_type%3Afull%20AND%20article_type%3A%22research%20article%22&rows=500&q=subject%3A%22People%20and%20places%22&start=2500&wt=json&api_key=a1TjkHdh2NzVd6jhsDzM\n",
      "INFO:prototype.plosapi:making request to http://api.plos.org/search?fq=doc_type%3Afull%20AND%20article_type%3A%22research%20article%22&rows=500&q=subject%3A%22People%20and%20places%22&start=3000&wt=json&api_key=a1TjkHdh2NzVd6jhsDzM\n",
      "INFO:prototype.plosapi:making request to http://api.plos.org/search?fq=doc_type%3Afull%20AND%20article_type%3A%22research%20article%22&rows=500&q=subject%3A%22People%20and%20places%22&start=3500&wt=json&api_key=a1TjkHdh2NzVd6jhsDzM\n",
      "INFO:prototype.plosapi:making request to http://api.plos.org/search?fq=doc_type%3Afull%20AND%20article_type%3A%22research%20article%22&rows=500&q=subject%3A%22People%20and%20places%22&start=4000&wt=json&api_key=a1TjkHdh2NzVd6jhsDzM\n",
      "INFO:prototype.plosapi:making request to http://api.plos.org/search?fq=doc_type%3Afull%20AND%20article_type%3A%22research%20article%22&rows=500&q=subject%3A%22People%20and%20places%22&start=4500&wt=json&api_key=a1TjkHdh2NzVd6jhsDzM\n",
      "INFO:prototype.plosapi:making request to http://api.plos.org/search?fq=doc_type%3Afull%20AND%20article_type%3A%22research%20article%22&rows=500&q=subject%3A%22People%20and%20places%22&start=5000&wt=json&api_key=a1TjkHdh2NzVd6jhsDzM\n",
      "INFO:prototype.plosapi:making request to http://api.plos.org/search?fq=doc_type%3Afull%20AND%20article_type%3A%22research%20article%22&rows=500&q=subject%3A%22People%20and%20places%22&start=5500&wt=json&api_key=a1TjkHdh2NzVd6jhsDzM\n",
      "INFO:prototype.plosapi:making request to http://api.plos.org/search?fq=doc_type%3Afull%20AND%20article_type%3A%22research%20article%22&rows=500&q=subject%3A%22People%20and%20places%22&start=6000&wt=json&api_key=a1TjkHdh2NzVd6jhsDzM\n",
      "INFO:prototype.plosapi:making request to http://api.plos.org/search?fq=doc_type%3Afull%20AND%20article_type%3A%22research%20article%22&rows=500&q=subject%3A%22People%20and%20places%22&start=6500&wt=json&api_key=a1TjkHdh2NzVd6jhsDzM\n",
      "INFO:prototype.plosapi:making request to http://api.plos.org/search?fq=doc_type%3Afull%20AND%20article_type%3A%22research%20article%22&rows=500&q=subject%3A%22People%20and%20places%22&start=7000&wt=json&api_key=a1TjkHdh2NzVd6jhsDzM\n",
      "INFO:prototype.plosapi:making request to http://api.plos.org/search?fq=doc_type%3Afull%20AND%20article_type%3A%22research%20article%22&rows=500&q=subject%3A%22People%20and%20places%22&start=7500&wt=json&api_key=a1TjkHdh2NzVd6jhsDzM\n",
      "INFO:prototype.plosapi:making request to http://api.plos.org/search?fq=doc_type%3Afull%20AND%20article_type%3A%22research%20article%22&rows=500&q=subject%3A%22People%20and%20places%22&start=8000&wt=json&api_key=a1TjkHdh2NzVd6jhsDzM\n",
      "INFO:prototype.plosapi:making request to http://api.plos.org/search?fq=doc_type%3Afull%20AND%20article_type%3A%22research%20article%22&rows=500&q=subject%3A%22People%20and%20places%22&start=8500&wt=json&api_key=a1TjkHdh2NzVd6jhsDzM\n",
      "INFO:prototype.plosapi:making request to http://api.plos.org/search?fq=doc_type%3Afull%20AND%20article_type%3A%22research%20article%22&rows=500&q=subject%3A%22People%20and%20places%22&start=9000&wt=json&api_key=a1TjkHdh2NzVd6jhsDzM\n",
      "INFO:prototype.plosapi:making request to http://api.plos.org/search?fq=doc_type%3Afull%20AND%20article_type%3A%22research%20article%22&rows=500&q=subject%3A%22People%20and%20places%22&start=9500&wt=json&api_key=a1TjkHdh2NzVd6jhsDzM\n",
      "INFO:plosdata:10000 results returned in 3.30217 hours.\n",
      "INFO:plosdata:10000 documents to be saved for the subject: Physical sciences\n",
      "INFO:prototype.plosapi:making request to http://api.plos.org/search?fq=doc_type%3Afull%20AND%20article_type%3A%22research%20article%22&rows=500&q=subject%3A%22Physical%20sciences%22&start=0&wt=json&api_key=a1TjkHdh2NzVd6jhsDzM\n",
      "INFO:prototype.plosapi:making request to http://api.plos.org/search?fq=doc_type%3Afull%20AND%20article_type%3A%22research%20article%22&rows=500&q=subject%3A%22Physical%20sciences%22&start=500&wt=json&api_key=a1TjkHdh2NzVd6jhsDzM\n",
      "INFO:prototype.plosapi:making request to http://api.plos.org/search?fq=doc_type%3Afull%20AND%20article_type%3A%22research%20article%22&rows=500&q=subject%3A%22Physical%20sciences%22&start=1000&wt=json&api_key=a1TjkHdh2NzVd6jhsDzM\n",
      "INFO:prototype.plosapi:making request to http://api.plos.org/search?fq=doc_type%3Afull%20AND%20article_type%3A%22research%20article%22&rows=500&q=subject%3A%22Physical%20sciences%22&start=1500&wt=json&api_key=a1TjkHdh2NzVd6jhsDzM\n",
      "INFO:prototype.plosapi:making request to http://api.plos.org/search?fq=doc_type%3Afull%20AND%20article_type%3A%22research%20article%22&rows=500&q=subject%3A%22Physical%20sciences%22&start=2000&wt=json&api_key=a1TjkHdh2NzVd6jhsDzM\n",
      "INFO:prototype.plosapi:making request to http://api.plos.org/search?fq=doc_type%3Afull%20AND%20article_type%3A%22research%20article%22&rows=500&q=subject%3A%22Physical%20sciences%22&start=2500&wt=json&api_key=a1TjkHdh2NzVd6jhsDzM\n",
      "INFO:prototype.plosapi:making request to http://api.plos.org/search?fq=doc_type%3Afull%20AND%20article_type%3A%22research%20article%22&rows=500&q=subject%3A%22Physical%20sciences%22&start=3000&wt=json&api_key=a1TjkHdh2NzVd6jhsDzM\n",
      "INFO:prototype.plosapi:making request to http://api.plos.org/search?fq=doc_type%3Afull%20AND%20article_type%3A%22research%20article%22&rows=500&q=subject%3A%22Physical%20sciences%22&start=3500&wt=json&api_key=a1TjkHdh2NzVd6jhsDzM\n",
      "INFO:prototype.plosapi:making request to http://api.plos.org/search?fq=doc_type%3Afull%20AND%20article_type%3A%22research%20article%22&rows=500&q=subject%3A%22Physical%20sciences%22&start=4000&wt=json&api_key=a1TjkHdh2NzVd6jhsDzM\n",
      "INFO:prototype.plosapi:making request to http://api.plos.org/search?fq=doc_type%3Afull%20AND%20article_type%3A%22research%20article%22&rows=500&q=subject%3A%22Physical%20sciences%22&start=4500&wt=json&api_key=a1TjkHdh2NzVd6jhsDzM\n",
      "INFO:prototype.plosapi:making request to http://api.plos.org/search?fq=doc_type%3Afull%20AND%20article_type%3A%22research%20article%22&rows=500&q=subject%3A%22Physical%20sciences%22&start=5000&wt=json&api_key=a1TjkHdh2NzVd6jhsDzM\n",
      "INFO:prototype.plosapi:making request to http://api.plos.org/search?fq=doc_type%3Afull%20AND%20article_type%3A%22research%20article%22&rows=500&q=subject%3A%22Physical%20sciences%22&start=5500&wt=json&api_key=a1TjkHdh2NzVd6jhsDzM\n",
      "INFO:prototype.plosapi:making request to http://api.plos.org/search?fq=doc_type%3Afull%20AND%20article_type%3A%22research%20article%22&rows=500&q=subject%3A%22Physical%20sciences%22&start=6000&wt=json&api_key=a1TjkHdh2NzVd6jhsDzM\n",
      "INFO:prototype.plosapi:making request to http://api.plos.org/search?fq=doc_type%3Afull%20AND%20article_type%3A%22research%20article%22&rows=500&q=subject%3A%22Physical%20sciences%22&start=6500&wt=json&api_key=a1TjkHdh2NzVd6jhsDzM\n",
      "INFO:prototype.plosapi:making request to http://api.plos.org/search?fq=doc_type%3Afull%20AND%20article_type%3A%22research%20article%22&rows=500&q=subject%3A%22Physical%20sciences%22&start=7000&wt=json&api_key=a1TjkHdh2NzVd6jhsDzM\n",
      "INFO:prototype.plosapi:making request to http://api.plos.org/search?fq=doc_type%3Afull%20AND%20article_type%3A%22research%20article%22&rows=500&q=subject%3A%22Physical%20sciences%22&start=7500&wt=json&api_key=a1TjkHdh2NzVd6jhsDzM\n",
      "INFO:prototype.plosapi:making request to http://api.plos.org/search?fq=doc_type%3Afull%20AND%20article_type%3A%22research%20article%22&rows=500&q=subject%3A%22Physical%20sciences%22&start=8000&wt=json&api_key=a1TjkHdh2NzVd6jhsDzM\n",
      "INFO:prototype.plosapi:making request to http://api.plos.org/search?fq=doc_type%3Afull%20AND%20article_type%3A%22research%20article%22&rows=500&q=subject%3A%22Physical%20sciences%22&start=8500&wt=json&api_key=a1TjkHdh2NzVd6jhsDzM\n",
      "INFO:prototype.plosapi:making request to http://api.plos.org/search?fq=doc_type%3Afull%20AND%20article_type%3A%22research%20article%22&rows=500&q=subject%3A%22Physical%20sciences%22&start=9000&wt=json&api_key=a1TjkHdh2NzVd6jhsDzM\n",
      "INFO:prototype.plosapi:making request to http://api.plos.org/search?fq=doc_type%3Afull%20AND%20article_type%3A%22research%20article%22&rows=500&q=subject%3A%22Physical%20sciences%22&start=9500&wt=json&api_key=a1TjkHdh2NzVd6jhsDzM\n",
      "INFO:plosdata:10000 results returned in 2.725996 hours.\n",
      "INFO:plosdata:10000 documents to be saved for the subject: Research and analysis methods\n",
      "INFO:prototype.plosapi:making request to http://api.plos.org/search?fq=doc_type%3Afull%20AND%20article_type%3A%22research%20article%22&rows=500&q=subject%3A%22Research%20and%20analysis%20methods%22&start=0&wt=json&api_key=a1TjkHdh2NzVd6jhsDzM\n",
      "INFO:prototype.plosapi:making request to http://api.plos.org/search?fq=doc_type%3Afull%20AND%20article_type%3A%22research%20article%22&rows=500&q=subject%3A%22Research%20and%20analysis%20methods%22&start=500&wt=json&api_key=a1TjkHdh2NzVd6jhsDzM\n",
      "INFO:prototype.plosapi:making request to http://api.plos.org/search?fq=doc_type%3Afull%20AND%20article_type%3A%22research%20article%22&rows=500&q=subject%3A%22Research%20and%20analysis%20methods%22&start=1000&wt=json&api_key=a1TjkHdh2NzVd6jhsDzM\n",
      "INFO:prototype.plosapi:making request to http://api.plos.org/search?fq=doc_type%3Afull%20AND%20article_type%3A%22research%20article%22&rows=500&q=subject%3A%22Research%20and%20analysis%20methods%22&start=1500&wt=json&api_key=a1TjkHdh2NzVd6jhsDzM\n",
      "INFO:prototype.plosapi:making request to http://api.plos.org/search?fq=doc_type%3Afull%20AND%20article_type%3A%22research%20article%22&rows=500&q=subject%3A%22Research%20and%20analysis%20methods%22&start=2000&wt=json&api_key=a1TjkHdh2NzVd6jhsDzM\n",
      "INFO:prototype.plosapi:making request to http://api.plos.org/search?fq=doc_type%3Afull%20AND%20article_type%3A%22research%20article%22&rows=500&q=subject%3A%22Research%20and%20analysis%20methods%22&start=2500&wt=json&api_key=a1TjkHdh2NzVd6jhsDzM\n",
      "INFO:prototype.plosapi:making request to http://api.plos.org/search?fq=doc_type%3Afull%20AND%20article_type%3A%22research%20article%22&rows=500&q=subject%3A%22Research%20and%20analysis%20methods%22&start=3000&wt=json&api_key=a1TjkHdh2NzVd6jhsDzM\n",
      "INFO:prototype.plosapi:making request to http://api.plos.org/search?fq=doc_type%3Afull%20AND%20article_type%3A%22research%20article%22&rows=500&q=subject%3A%22Research%20and%20analysis%20methods%22&start=3500&wt=json&api_key=a1TjkHdh2NzVd6jhsDzM\n",
      "INFO:prototype.plosapi:making request to http://api.plos.org/search?fq=doc_type%3Afull%20AND%20article_type%3A%22research%20article%22&rows=500&q=subject%3A%22Research%20and%20analysis%20methods%22&start=4000&wt=json&api_key=a1TjkHdh2NzVd6jhsDzM\n",
      "INFO:prototype.plosapi:making request to http://api.plos.org/search?fq=doc_type%3Afull%20AND%20article_type%3A%22research%20article%22&rows=500&q=subject%3A%22Research%20and%20analysis%20methods%22&start=4500&wt=json&api_key=a1TjkHdh2NzVd6jhsDzM\n",
      "INFO:prototype.plosapi:making request to http://api.plos.org/search?fq=doc_type%3Afull%20AND%20article_type%3A%22research%20article%22&rows=500&q=subject%3A%22Research%20and%20analysis%20methods%22&start=5000&wt=json&api_key=a1TjkHdh2NzVd6jhsDzM\n",
      "INFO:prototype.plosapi:making request to http://api.plos.org/search?fq=doc_type%3Afull%20AND%20article_type%3A%22research%20article%22&rows=500&q=subject%3A%22Research%20and%20analysis%20methods%22&start=5500&wt=json&api_key=a1TjkHdh2NzVd6jhsDzM\n",
      "INFO:prototype.plosapi:making request to http://api.plos.org/search?fq=doc_type%3Afull%20AND%20article_type%3A%22research%20article%22&rows=500&q=subject%3A%22Research%20and%20analysis%20methods%22&start=6000&wt=json&api_key=a1TjkHdh2NzVd6jhsDzM\n",
      "INFO:prototype.plosapi:making request to http://api.plos.org/search?fq=doc_type%3Afull%20AND%20article_type%3A%22research%20article%22&rows=500&q=subject%3A%22Research%20and%20analysis%20methods%22&start=6500&wt=json&api_key=a1TjkHdh2NzVd6jhsDzM\n",
      "INFO:prototype.plosapi:making request to http://api.plos.org/search?fq=doc_type%3Afull%20AND%20article_type%3A%22research%20article%22&rows=500&q=subject%3A%22Research%20and%20analysis%20methods%22&start=7000&wt=json&api_key=a1TjkHdh2NzVd6jhsDzM\n",
      "INFO:prototype.plosapi:making request to http://api.plos.org/search?fq=doc_type%3Afull%20AND%20article_type%3A%22research%20article%22&rows=500&q=subject%3A%22Research%20and%20analysis%20methods%22&start=7500&wt=json&api_key=a1TjkHdh2NzVd6jhsDzM\n",
      "INFO:prototype.plosapi:making request to http://api.plos.org/search?fq=doc_type%3Afull%20AND%20article_type%3A%22research%20article%22&rows=500&q=subject%3A%22Research%20and%20analysis%20methods%22&start=8000&wt=json&api_key=a1TjkHdh2NzVd6jhsDzM\n",
      "INFO:prototype.plosapi:making request to http://api.plos.org/search?fq=doc_type%3Afull%20AND%20article_type%3A%22research%20article%22&rows=500&q=subject%3A%22Research%20and%20analysis%20methods%22&start=8500&wt=json&api_key=a1TjkHdh2NzVd6jhsDzM\n",
      "INFO:prototype.plosapi:making request to http://api.plos.org/search?fq=doc_type%3Afull%20AND%20article_type%3A%22research%20article%22&rows=500&q=subject%3A%22Research%20and%20analysis%20methods%22&start=9000&wt=json&api_key=a1TjkHdh2NzVd6jhsDzM\n",
      "INFO:prototype.plosapi:making request to http://api.plos.org/search?fq=doc_type%3Afull%20AND%20article_type%3A%22research%20article%22&rows=500&q=subject%3A%22Research%20and%20analysis%20methods%22&start=9500&wt=json&api_key=a1TjkHdh2NzVd6jhsDzM\n",
      "INFO:plosdata:10000 results returned in 2.865775 hours.\n",
      "INFO:plosdata:10000 documents to be saved for the subject: Science policy\n",
      "INFO:prototype.plosapi:making request to http://api.plos.org/search?fq=doc_type%3Afull%20AND%20article_type%3A%22research%20article%22&rows=500&q=subject%3A%22Science%20policy%22&start=0&wt=json&api_key=a1TjkHdh2NzVd6jhsDzM\n",
      "INFO:prototype.plosapi:making request to http://api.plos.org/search?fq=doc_type%3Afull%20AND%20article_type%3A%22research%20article%22&rows=500&q=subject%3A%22Science%20policy%22&start=500&wt=json&api_key=a1TjkHdh2NzVd6jhsDzM\n",
      "INFO:plosdata:10000 results returned in 0.135193 hours.\n",
      "INFO:plosdata:10000 documents to be saved for the subject: Social sciences\n",
      "INFO:prototype.plosapi:making request to http://api.plos.org/search?fq=doc_type%3Afull%20AND%20article_type%3A%22research%20article%22&rows=500&q=subject%3A%22Social%20sciences%22&start=0&wt=json&api_key=a1TjkHdh2NzVd6jhsDzM\n",
      "INFO:prototype.plosapi:making request to http://api.plos.org/search?fq=doc_type%3Afull%20AND%20article_type%3A%22research%20article%22&rows=500&q=subject%3A%22Social%20sciences%22&start=500&wt=json&api_key=a1TjkHdh2NzVd6jhsDzM\n",
      "INFO:prototype.plosapi:making request to http://api.plos.org/search?fq=doc_type%3Afull%20AND%20article_type%3A%22research%20article%22&rows=500&q=subject%3A%22Social%20sciences%22&start=1000&wt=json&api_key=a1TjkHdh2NzVd6jhsDzM\n",
      "INFO:prototype.plosapi:making request to http://api.plos.org/search?fq=doc_type%3Afull%20AND%20article_type%3A%22research%20article%22&rows=500&q=subject%3A%22Social%20sciences%22&start=1500&wt=json&api_key=a1TjkHdh2NzVd6jhsDzM\n",
      "INFO:prototype.plosapi:making request to http://api.plos.org/search?fq=doc_type%3Afull%20AND%20article_type%3A%22research%20article%22&rows=500&q=subject%3A%22Social%20sciences%22&start=2000&wt=json&api_key=a1TjkHdh2NzVd6jhsDzM\n",
      "INFO:prototype.plosapi:making request to http://api.plos.org/search?fq=doc_type%3Afull%20AND%20article_type%3A%22research%20article%22&rows=500&q=subject%3A%22Social%20sciences%22&start=2500&wt=json&api_key=a1TjkHdh2NzVd6jhsDzM\n",
      "INFO:prototype.plosapi:making request to http://api.plos.org/search?fq=doc_type%3Afull%20AND%20article_type%3A%22research%20article%22&rows=500&q=subject%3A%22Social%20sciences%22&start=3000&wt=json&api_key=a1TjkHdh2NzVd6jhsDzM\n",
      "INFO:prototype.plosapi:making request to http://api.plos.org/search?fq=doc_type%3Afull%20AND%20article_type%3A%22research%20article%22&rows=500&q=subject%3A%22Social%20sciences%22&start=3500&wt=json&api_key=a1TjkHdh2NzVd6jhsDzM\n",
      "INFO:prototype.plosapi:making request to http://api.plos.org/search?fq=doc_type%3Afull%20AND%20article_type%3A%22research%20article%22&rows=500&q=subject%3A%22Social%20sciences%22&start=4000&wt=json&api_key=a1TjkHdh2NzVd6jhsDzM\n",
      "INFO:prototype.plosapi:making request to http://api.plos.org/search?fq=doc_type%3Afull%20AND%20article_type%3A%22research%20article%22&rows=500&q=subject%3A%22Social%20sciences%22&start=4500&wt=json&api_key=a1TjkHdh2NzVd6jhsDzM\n",
      "INFO:prototype.plosapi:making request to http://api.plos.org/search?fq=doc_type%3Afull%20AND%20article_type%3A%22research%20article%22&rows=500&q=subject%3A%22Social%20sciences%22&start=5000&wt=json&api_key=a1TjkHdh2NzVd6jhsDzM\n",
      "INFO:prototype.plosapi:making request to http://api.plos.org/search?fq=doc_type%3Afull%20AND%20article_type%3A%22research%20article%22&rows=500&q=subject%3A%22Social%20sciences%22&start=5500&wt=json&api_key=a1TjkHdh2NzVd6jhsDzM\n",
      "INFO:prototype.plosapi:making request to http://api.plos.org/search?fq=doc_type%3Afull%20AND%20article_type%3A%22research%20article%22&rows=500&q=subject%3A%22Social%20sciences%22&start=6000&wt=json&api_key=a1TjkHdh2NzVd6jhsDzM\n",
      "INFO:prototype.plosapi:making request to http://api.plos.org/search?fq=doc_type%3Afull%20AND%20article_type%3A%22research%20article%22&rows=500&q=subject%3A%22Social%20sciences%22&start=6500&wt=json&api_key=a1TjkHdh2NzVd6jhsDzM\n",
      "INFO:prototype.plosapi:making request to http://api.plos.org/search?fq=doc_type%3Afull%20AND%20article_type%3A%22research%20article%22&rows=500&q=subject%3A%22Social%20sciences%22&start=7000&wt=json&api_key=a1TjkHdh2NzVd6jhsDzM\n",
      "INFO:prototype.plosapi:making request to http://api.plos.org/search?fq=doc_type%3Afull%20AND%20article_type%3A%22research%20article%22&rows=500&q=subject%3A%22Social%20sciences%22&start=7500&wt=json&api_key=a1TjkHdh2NzVd6jhsDzM\n",
      "INFO:prototype.plosapi:making request to http://api.plos.org/search?fq=doc_type%3Afull%20AND%20article_type%3A%22research%20article%22&rows=500&q=subject%3A%22Social%20sciences%22&start=8000&wt=json&api_key=a1TjkHdh2NzVd6jhsDzM\n",
      "INFO:prototype.plosapi:making request to http://api.plos.org/search?fq=doc_type%3Afull%20AND%20article_type%3A%22research%20article%22&rows=500&q=subject%3A%22Social%20sciences%22&start=8500&wt=json&api_key=a1TjkHdh2NzVd6jhsDzM\n",
      "INFO:prototype.plosapi:making request to http://api.plos.org/search?fq=doc_type%3Afull%20AND%20article_type%3A%22research%20article%22&rows=500&q=subject%3A%22Social%20sciences%22&start=9000&wt=json&api_key=a1TjkHdh2NzVd6jhsDzM\n",
      "INFO:prototype.plosapi:making request to http://api.plos.org/search?fq=doc_type%3Afull%20AND%20article_type%3A%22research%20article%22&rows=500&q=subject%3A%22Social%20sciences%22&start=9500&wt=json&api_key=a1TjkHdh2NzVd6jhsDzM\n",
      "INFO:plosdata:10000 results returned in 2.994343 hours.\n"
     ]
    }
   ],
   "source": [
    "plosdata.save_source('./data', prefix='large', limit=10000)\n"
   ]
  },
  {
   "cell_type": "code",
   "execution_count": 209,
   "metadata": {
    "collapsed": false
   },
   "outputs": [
    {
     "name": "stdout",
     "output_type": "stream",
     "text": [
      "processing: data/large-biology_and_life_sciences.sample\n"
     ]
    },
    {
     "ename": "ValueError",
     "evalue": "Extra data: line 1 column 1247889 - line 1 column 24175300 (char 1247888 - 24175299)",
     "output_type": "error",
     "traceback": [
      "\u001b[0;31m---------------------------------------------------------------------------\u001b[0m",
      "\u001b[0;31mValueError\u001b[0m                                Traceback (most recent call last)",
      "\u001b[0;32m<ipython-input-209-96896ceafd2e>\u001b[0m in \u001b[0;36m<module>\u001b[0;34m()\u001b[0m\n\u001b[1;32m      1\u001b[0m \u001b[0mfilenames\u001b[0m \u001b[0;34m=\u001b[0m \u001b[0;34m[\u001b[0m\u001b[0msubject\u001b[0m\u001b[0;34m.\u001b[0m\u001b[0mreplace\u001b[0m\u001b[0;34m(\u001b[0m\u001b[0;34m\" \"\u001b[0m\u001b[0;34m,\u001b[0m \u001b[0;34m\"_\"\u001b[0m\u001b[0;34m)\u001b[0m\u001b[0;34m.\u001b[0m\u001b[0mlower\u001b[0m\u001b[0;34m(\u001b[0m\u001b[0;34m)\u001b[0m \u001b[0;32mfor\u001b[0m \u001b[0msubject\u001b[0m \u001b[0;32min\u001b[0m \u001b[0mplosdata\u001b[0m\u001b[0;34m.\u001b[0m\u001b[0msubject_areas\u001b[0m\u001b[0;34m]\u001b[0m\u001b[0;34m\u001b[0m\u001b[0m\n\u001b[1;32m      2\u001b[0m \u001b[0mfile_list_l\u001b[0m \u001b[0;34m=\u001b[0m \u001b[0;34m[\u001b[0m\u001b[0;34m'{}/{}-{}.sample'\u001b[0m\u001b[0;34m.\u001b[0m\u001b[0mformat\u001b[0m\u001b[0;34m(\u001b[0m\u001b[0;34m'data'\u001b[0m\u001b[0;34m,\u001b[0m \u001b[0;34m'large'\u001b[0m\u001b[0;34m,\u001b[0m \u001b[0mfilename\u001b[0m\u001b[0;34m)\u001b[0m \u001b[0;32mfor\u001b[0m \u001b[0mfilename\u001b[0m \u001b[0;32min\u001b[0m \u001b[0mfilenames\u001b[0m\u001b[0;34m]\u001b[0m\u001b[0;34m\u001b[0m\u001b[0m\n\u001b[0;32m----> 3\u001b[0;31m \u001b[0mpadded_l\u001b[0m\u001b[0;34m,\u001b[0m \u001b[0mresponses_l\u001b[0m\u001b[0;34m,\u001b[0m \u001b[0mvocab_l\u001b[0m \u001b[0;34m=\u001b[0m \u001b[0mplosdata\u001b[0m\u001b[0;34m.\u001b[0m\u001b[0mprocess_sources\u001b[0m\u001b[0;34m(\u001b[0m\u001b[0mfile_list_l\u001b[0m\u001b[0;34m)\u001b[0m\u001b[0;34m\u001b[0m\u001b[0m\n\u001b[0m",
      "\u001b[0;32m/Users/jliu3230/doclabels/prototype/plosdata.py\u001b[0m in \u001b[0;36mprocess_sources\u001b[0;34m(file_list)\u001b[0m\n\u001b[1;32m    149\u001b[0m     \u001b[0;32mfor\u001b[0m \u001b[0msourcefile\u001b[0m \u001b[0;32min\u001b[0m \u001b[0mfile_list\u001b[0m\u001b[0;34m:\u001b[0m\u001b[0;34m\u001b[0m\u001b[0m\n\u001b[1;32m    150\u001b[0m         \u001b[0;32mprint\u001b[0m\u001b[0;34m(\u001b[0m\u001b[0;34m'processing: {}'\u001b[0m\u001b[0;34m.\u001b[0m\u001b[0mformat\u001b[0m\u001b[0;34m(\u001b[0m\u001b[0msourcefile\u001b[0m\u001b[0;34m)\u001b[0m\u001b[0;34m)\u001b[0m\u001b[0;34m\u001b[0m\u001b[0m\n\u001b[0;32m--> 151\u001b[0;31m         \u001b[0mtext\u001b[0m\u001b[0;34m,\u001b[0m \u001b[0mresponse\u001b[0m \u001b[0;34m=\u001b[0m \u001b[0mprocess_source\u001b[0m\u001b[0;34m(\u001b[0m\u001b[0msourcefile\u001b[0m\u001b[0;34m)\u001b[0m\u001b[0;34m\u001b[0m\u001b[0m\n\u001b[0m\u001b[1;32m    152\u001b[0m         \u001b[0mdocs\u001b[0m\u001b[0;34m.\u001b[0m\u001b[0mextend\u001b[0m\u001b[0;34m(\u001b[0m\u001b[0mtext\u001b[0m\u001b[0;34m)\u001b[0m\u001b[0;34m\u001b[0m\u001b[0m\n\u001b[1;32m    153\u001b[0m         \u001b[0mresponses\u001b[0m\u001b[0;34m.\u001b[0m\u001b[0mextend\u001b[0m\u001b[0;34m(\u001b[0m\u001b[0mresponse\u001b[0m\u001b[0;34m)\u001b[0m\u001b[0;34m\u001b[0m\u001b[0m\n",
      "\u001b[0;32m/Users/jliu3230/doclabels/prototype/plosdata.py\u001b[0m in \u001b[0;36mprocess_source\u001b[0;34m(sourcefile)\u001b[0m\n\u001b[1;32m    135\u001b[0m     \u001b[0mReturn\u001b[0m \u001b[0mcleaned\u001b[0m \u001b[0mtext\u001b[0m \u001b[0;34m(\u001b[0m\u001b[0mlist\u001b[0m\u001b[0;34m)\u001b[0m \u001b[0;32mand\u001b[0m \u001b[0mresponse\u001b[0m \u001b[0;34m(\u001b[0m\u001b[0mlist\u001b[0m\u001b[0;34m)\u001b[0m\u001b[0;34m.\u001b[0m \u001b[0mSplit\u001b[0m \u001b[0mthe\u001b[0m \u001b[0mtext\u001b[0m\u001b[0;34m.\u001b[0m\u001b[0;34m\u001b[0m\u001b[0m\n\u001b[1;32m    136\u001b[0m     \"\"\"\n\u001b[0;32m--> 137\u001b[0;31m     \u001b[0msource\u001b[0m \u001b[0;34m=\u001b[0m \u001b[0mload_source\u001b[0m\u001b[0;34m(\u001b[0m\u001b[0msourcefile\u001b[0m\u001b[0;34m)\u001b[0m\u001b[0;34m\u001b[0m\u001b[0m\n\u001b[0m\u001b[1;32m    138\u001b[0m     \u001b[0;32mprint\u001b[0m\u001b[0;34m(\u001b[0m\u001b[0;34m'loaded source'\u001b[0m\u001b[0;34m)\u001b[0m\u001b[0;34m\u001b[0m\u001b[0m\n\u001b[1;32m    139\u001b[0m     \u001b[0;32mreturn\u001b[0m \u001b[0mmap\u001b[0m\u001b[0;34m(\u001b[0m\u001b[0mcompose\u001b[0m\u001b[0;34m(\u001b[0m\u001b[0;32mlambda\u001b[0m \u001b[0mx\u001b[0m\u001b[0;34m:\u001b[0m \u001b[0mx\u001b[0m\u001b[0;34m.\u001b[0m\u001b[0msplit\u001b[0m\u001b[0;34m(\u001b[0m\u001b[0;34m\" \"\u001b[0m\u001b[0;34m)\u001b[0m\u001b[0;34m,\u001b[0m \u001b[0mclean_str\u001b[0m\u001b[0;34m,\u001b[0m \u001b[0mget_text\u001b[0m\u001b[0;34m)\u001b[0m\u001b[0;34m,\u001b[0m \u001b[0msource\u001b[0m\u001b[0;34m[\u001b[0m\u001b[0;34m'docs'\u001b[0m\u001b[0;34m]\u001b[0m\u001b[0;34m)\u001b[0m\u001b[0;34m,\u001b[0m \u001b[0;34m[\u001b[0m\u001b[0msource\u001b[0m\u001b[0;34m[\u001b[0m\u001b[0;34m'response'\u001b[0m\u001b[0;34m]\u001b[0m \u001b[0;32mfor\u001b[0m \u001b[0mi\u001b[0m \u001b[0;32min\u001b[0m \u001b[0mxrange\u001b[0m\u001b[0;34m(\u001b[0m\u001b[0mlen\u001b[0m\u001b[0;34m(\u001b[0m\u001b[0msource\u001b[0m\u001b[0;34m[\u001b[0m\u001b[0;34m'docs'\u001b[0m\u001b[0;34m]\u001b[0m\u001b[0;34m)\u001b[0m\u001b[0;34m)\u001b[0m\u001b[0;34m]\u001b[0m\u001b[0;34m\u001b[0m\u001b[0m\n",
      "\u001b[0;32m/Users/jliu3230/doclabels/prototype/plosdata.py\u001b[0m in \u001b[0;36mload_source\u001b[0;34m(filename)\u001b[0m\n\u001b[1;32m     57\u001b[0m     \"\"\"\n\u001b[1;32m     58\u001b[0m     \u001b[0;32mwith\u001b[0m \u001b[0mopen\u001b[0m\u001b[0;34m(\u001b[0m\u001b[0mfilename\u001b[0m\u001b[0;34m,\u001b[0m \u001b[0;34m'r'\u001b[0m\u001b[0;34m)\u001b[0m \u001b[0;32mas\u001b[0m \u001b[0mf\u001b[0m\u001b[0;34m:\u001b[0m\u001b[0;34m\u001b[0m\u001b[0m\n\u001b[0;32m---> 59\u001b[0;31m         \u001b[0;32mreturn\u001b[0m \u001b[0mjson\u001b[0m\u001b[0;34m.\u001b[0m\u001b[0mload\u001b[0m\u001b[0;34m(\u001b[0m\u001b[0mf\u001b[0m\u001b[0;34m)\u001b[0m\u001b[0;34m\u001b[0m\u001b[0m\n\u001b[0m\u001b[1;32m     60\u001b[0m \u001b[0;34m\u001b[0m\u001b[0m\n\u001b[1;32m     61\u001b[0m \u001b[0;34m\u001b[0m\u001b[0m\n",
      "\u001b[0;32m/usr/local/Cellar/python/2.7.10_1/Frameworks/Python.framework/Versions/2.7/lib/python2.7/json/__init__.pyc\u001b[0m in \u001b[0;36mload\u001b[0;34m(fp, encoding, cls, object_hook, parse_float, parse_int, parse_constant, object_pairs_hook, **kw)\u001b[0m\n\u001b[1;32m    288\u001b[0m         \u001b[0mparse_float\u001b[0m\u001b[0;34m=\u001b[0m\u001b[0mparse_float\u001b[0m\u001b[0;34m,\u001b[0m \u001b[0mparse_int\u001b[0m\u001b[0;34m=\u001b[0m\u001b[0mparse_int\u001b[0m\u001b[0;34m,\u001b[0m\u001b[0;34m\u001b[0m\u001b[0m\n\u001b[1;32m    289\u001b[0m         \u001b[0mparse_constant\u001b[0m\u001b[0;34m=\u001b[0m\u001b[0mparse_constant\u001b[0m\u001b[0;34m,\u001b[0m \u001b[0mobject_pairs_hook\u001b[0m\u001b[0;34m=\u001b[0m\u001b[0mobject_pairs_hook\u001b[0m\u001b[0;34m,\u001b[0m\u001b[0;34m\u001b[0m\u001b[0m\n\u001b[0;32m--> 290\u001b[0;31m         **kw)\n\u001b[0m\u001b[1;32m    291\u001b[0m \u001b[0;34m\u001b[0m\u001b[0m\n\u001b[1;32m    292\u001b[0m \u001b[0;34m\u001b[0m\u001b[0m\n",
      "\u001b[0;32m/usr/local/Cellar/python/2.7.10_1/Frameworks/Python.framework/Versions/2.7/lib/python2.7/json/__init__.pyc\u001b[0m in \u001b[0;36mloads\u001b[0;34m(s, encoding, cls, object_hook, parse_float, parse_int, parse_constant, object_pairs_hook, **kw)\u001b[0m\n\u001b[1;32m    336\u001b[0m             \u001b[0mparse_int\u001b[0m \u001b[0;32mis\u001b[0m \u001b[0mNone\u001b[0m \u001b[0;32mand\u001b[0m \u001b[0mparse_float\u001b[0m \u001b[0;32mis\u001b[0m \u001b[0mNone\u001b[0m \u001b[0;32mand\u001b[0m\u001b[0;34m\u001b[0m\u001b[0m\n\u001b[1;32m    337\u001b[0m             parse_constant is None and object_pairs_hook is None and not kw):\n\u001b[0;32m--> 338\u001b[0;31m         \u001b[0;32mreturn\u001b[0m \u001b[0m_default_decoder\u001b[0m\u001b[0;34m.\u001b[0m\u001b[0mdecode\u001b[0m\u001b[0;34m(\u001b[0m\u001b[0ms\u001b[0m\u001b[0;34m)\u001b[0m\u001b[0;34m\u001b[0m\u001b[0m\n\u001b[0m\u001b[1;32m    339\u001b[0m     \u001b[0;32mif\u001b[0m \u001b[0mcls\u001b[0m \u001b[0;32mis\u001b[0m \u001b[0mNone\u001b[0m\u001b[0;34m:\u001b[0m\u001b[0;34m\u001b[0m\u001b[0m\n\u001b[1;32m    340\u001b[0m         \u001b[0mcls\u001b[0m \u001b[0;34m=\u001b[0m \u001b[0mJSONDecoder\u001b[0m\u001b[0;34m\u001b[0m\u001b[0m\n",
      "\u001b[0;32m/usr/local/Cellar/python/2.7.10_1/Frameworks/Python.framework/Versions/2.7/lib/python2.7/json/decoder.pyc\u001b[0m in \u001b[0;36mdecode\u001b[0;34m(self, s, _w)\u001b[0m\n\u001b[1;32m    367\u001b[0m         \u001b[0mend\u001b[0m \u001b[0;34m=\u001b[0m \u001b[0m_w\u001b[0m\u001b[0;34m(\u001b[0m\u001b[0ms\u001b[0m\u001b[0;34m,\u001b[0m \u001b[0mend\u001b[0m\u001b[0;34m)\u001b[0m\u001b[0;34m.\u001b[0m\u001b[0mend\u001b[0m\u001b[0;34m(\u001b[0m\u001b[0;34m)\u001b[0m\u001b[0;34m\u001b[0m\u001b[0m\n\u001b[1;32m    368\u001b[0m         \u001b[0;32mif\u001b[0m \u001b[0mend\u001b[0m \u001b[0;34m!=\u001b[0m \u001b[0mlen\u001b[0m\u001b[0;34m(\u001b[0m\u001b[0ms\u001b[0m\u001b[0;34m)\u001b[0m\u001b[0;34m:\u001b[0m\u001b[0;34m\u001b[0m\u001b[0m\n\u001b[0;32m--> 369\u001b[0;31m             \u001b[0;32mraise\u001b[0m \u001b[0mValueError\u001b[0m\u001b[0;34m(\u001b[0m\u001b[0merrmsg\u001b[0m\u001b[0;34m(\u001b[0m\u001b[0;34m\"Extra data\"\u001b[0m\u001b[0;34m,\u001b[0m \u001b[0ms\u001b[0m\u001b[0;34m,\u001b[0m \u001b[0mend\u001b[0m\u001b[0;34m,\u001b[0m \u001b[0mlen\u001b[0m\u001b[0;34m(\u001b[0m\u001b[0ms\u001b[0m\u001b[0;34m)\u001b[0m\u001b[0;34m)\u001b[0m\u001b[0;34m)\u001b[0m\u001b[0;34m\u001b[0m\u001b[0m\n\u001b[0m\u001b[1;32m    370\u001b[0m         \u001b[0;32mreturn\u001b[0m \u001b[0mobj\u001b[0m\u001b[0;34m\u001b[0m\u001b[0m\n\u001b[1;32m    371\u001b[0m \u001b[0;34m\u001b[0m\u001b[0m\n",
      "\u001b[0;31mValueError\u001b[0m: Extra data: line 1 column 1247889 - line 1 column 24175300 (char 1247888 - 24175299)"
     ]
    }
   ],
   "source": [
    "filenames = [subject.replace(\" \", \"_\").lower() for subject in plosdata.subject_areas]\n",
    "file_list_l = ['{}/{}-{}.sample'.format('data', 'large', filename) for filename in filenames]\n",
    "padded_l, responses_l, vocab_l = plosdata.process_sources(file_list_l)"
   ]
  },
  {
   "cell_type": "code",
   "execution_count": 210,
   "metadata": {
    "collapsed": false
   },
   "outputs": [
    {
     "ename": "ValueError",
     "evalue": "Extra data: line 1 column 1247889 - line 1 column 24175300 (char 1247888 - 24175299)",
     "output_type": "error",
     "traceback": [
      "\u001b[0;31m---------------------------------------------------------------------------\u001b[0m",
      "\u001b[0;31mValueError\u001b[0m                                Traceback (most recent call last)",
      "\u001b[0;32m<ipython-input-210-fbe99b6419eb>\u001b[0m in \u001b[0;36m<module>\u001b[0;34m()\u001b[0m\n\u001b[0;32m----> 1\u001b[0;31m \u001b[0mtryload\u001b[0m \u001b[0;34m=\u001b[0m \u001b[0mplosdata\u001b[0m\u001b[0;34m.\u001b[0m\u001b[0mload_source\u001b[0m\u001b[0;34m(\u001b[0m\u001b[0;34m'data/large-biology_and_life_sciences.sample'\u001b[0m\u001b[0;34m)\u001b[0m\u001b[0;34m\u001b[0m\u001b[0m\n\u001b[0m",
      "\u001b[0;32m/Users/jliu3230/doclabels/prototype/plosdata.py\u001b[0m in \u001b[0;36mload_source\u001b[0;34m(filename)\u001b[0m\n\u001b[1;32m     57\u001b[0m     \"\"\"\n\u001b[1;32m     58\u001b[0m     \u001b[0;32mwith\u001b[0m \u001b[0mopen\u001b[0m\u001b[0;34m(\u001b[0m\u001b[0mfilename\u001b[0m\u001b[0;34m,\u001b[0m \u001b[0;34m'r'\u001b[0m\u001b[0;34m)\u001b[0m \u001b[0;32mas\u001b[0m \u001b[0mf\u001b[0m\u001b[0;34m:\u001b[0m\u001b[0;34m\u001b[0m\u001b[0m\n\u001b[0;32m---> 59\u001b[0;31m         \u001b[0;32mreturn\u001b[0m \u001b[0mjson\u001b[0m\u001b[0;34m.\u001b[0m\u001b[0mload\u001b[0m\u001b[0;34m(\u001b[0m\u001b[0mf\u001b[0m\u001b[0;34m)\u001b[0m\u001b[0;34m\u001b[0m\u001b[0m\n\u001b[0m\u001b[1;32m     60\u001b[0m \u001b[0;34m\u001b[0m\u001b[0m\n\u001b[1;32m     61\u001b[0m \u001b[0;34m\u001b[0m\u001b[0m\n",
      "\u001b[0;32m/usr/local/Cellar/python/2.7.10_1/Frameworks/Python.framework/Versions/2.7/lib/python2.7/json/__init__.pyc\u001b[0m in \u001b[0;36mload\u001b[0;34m(fp, encoding, cls, object_hook, parse_float, parse_int, parse_constant, object_pairs_hook, **kw)\u001b[0m\n\u001b[1;32m    288\u001b[0m         \u001b[0mparse_float\u001b[0m\u001b[0;34m=\u001b[0m\u001b[0mparse_float\u001b[0m\u001b[0;34m,\u001b[0m \u001b[0mparse_int\u001b[0m\u001b[0;34m=\u001b[0m\u001b[0mparse_int\u001b[0m\u001b[0;34m,\u001b[0m\u001b[0;34m\u001b[0m\u001b[0m\n\u001b[1;32m    289\u001b[0m         \u001b[0mparse_constant\u001b[0m\u001b[0;34m=\u001b[0m\u001b[0mparse_constant\u001b[0m\u001b[0;34m,\u001b[0m \u001b[0mobject_pairs_hook\u001b[0m\u001b[0;34m=\u001b[0m\u001b[0mobject_pairs_hook\u001b[0m\u001b[0;34m,\u001b[0m\u001b[0;34m\u001b[0m\u001b[0m\n\u001b[0;32m--> 290\u001b[0;31m         **kw)\n\u001b[0m\u001b[1;32m    291\u001b[0m \u001b[0;34m\u001b[0m\u001b[0m\n\u001b[1;32m    292\u001b[0m \u001b[0;34m\u001b[0m\u001b[0m\n",
      "\u001b[0;32m/usr/local/Cellar/python/2.7.10_1/Frameworks/Python.framework/Versions/2.7/lib/python2.7/json/__init__.pyc\u001b[0m in \u001b[0;36mloads\u001b[0;34m(s, encoding, cls, object_hook, parse_float, parse_int, parse_constant, object_pairs_hook, **kw)\u001b[0m\n\u001b[1;32m    336\u001b[0m             \u001b[0mparse_int\u001b[0m \u001b[0;32mis\u001b[0m \u001b[0mNone\u001b[0m \u001b[0;32mand\u001b[0m \u001b[0mparse_float\u001b[0m \u001b[0;32mis\u001b[0m \u001b[0mNone\u001b[0m \u001b[0;32mand\u001b[0m\u001b[0;34m\u001b[0m\u001b[0m\n\u001b[1;32m    337\u001b[0m             parse_constant is None and object_pairs_hook is None and not kw):\n\u001b[0;32m--> 338\u001b[0;31m         \u001b[0;32mreturn\u001b[0m \u001b[0m_default_decoder\u001b[0m\u001b[0;34m.\u001b[0m\u001b[0mdecode\u001b[0m\u001b[0;34m(\u001b[0m\u001b[0ms\u001b[0m\u001b[0;34m)\u001b[0m\u001b[0;34m\u001b[0m\u001b[0m\n\u001b[0m\u001b[1;32m    339\u001b[0m     \u001b[0;32mif\u001b[0m \u001b[0mcls\u001b[0m \u001b[0;32mis\u001b[0m \u001b[0mNone\u001b[0m\u001b[0;34m:\u001b[0m\u001b[0;34m\u001b[0m\u001b[0m\n\u001b[1;32m    340\u001b[0m         \u001b[0mcls\u001b[0m \u001b[0;34m=\u001b[0m \u001b[0mJSONDecoder\u001b[0m\u001b[0;34m\u001b[0m\u001b[0m\n",
      "\u001b[0;32m/usr/local/Cellar/python/2.7.10_1/Frameworks/Python.framework/Versions/2.7/lib/python2.7/json/decoder.pyc\u001b[0m in \u001b[0;36mdecode\u001b[0;34m(self, s, _w)\u001b[0m\n\u001b[1;32m    367\u001b[0m         \u001b[0mend\u001b[0m \u001b[0;34m=\u001b[0m \u001b[0m_w\u001b[0m\u001b[0;34m(\u001b[0m\u001b[0ms\u001b[0m\u001b[0;34m,\u001b[0m \u001b[0mend\u001b[0m\u001b[0;34m)\u001b[0m\u001b[0;34m.\u001b[0m\u001b[0mend\u001b[0m\u001b[0;34m(\u001b[0m\u001b[0;34m)\u001b[0m\u001b[0;34m\u001b[0m\u001b[0m\n\u001b[1;32m    368\u001b[0m         \u001b[0;32mif\u001b[0m \u001b[0mend\u001b[0m \u001b[0;34m!=\u001b[0m \u001b[0mlen\u001b[0m\u001b[0;34m(\u001b[0m\u001b[0ms\u001b[0m\u001b[0;34m)\u001b[0m\u001b[0;34m:\u001b[0m\u001b[0;34m\u001b[0m\u001b[0m\n\u001b[0;32m--> 369\u001b[0;31m             \u001b[0;32mraise\u001b[0m \u001b[0mValueError\u001b[0m\u001b[0;34m(\u001b[0m\u001b[0merrmsg\u001b[0m\u001b[0;34m(\u001b[0m\u001b[0;34m\"Extra data\"\u001b[0m\u001b[0;34m,\u001b[0m \u001b[0ms\u001b[0m\u001b[0;34m,\u001b[0m \u001b[0mend\u001b[0m\u001b[0;34m,\u001b[0m \u001b[0mlen\u001b[0m\u001b[0;34m(\u001b[0m\u001b[0ms\u001b[0m\u001b[0;34m)\u001b[0m\u001b[0;34m)\u001b[0m\u001b[0;34m)\u001b[0m\u001b[0;34m\u001b[0m\u001b[0m\n\u001b[0m\u001b[1;32m    370\u001b[0m         \u001b[0;32mreturn\u001b[0m \u001b[0mobj\u001b[0m\u001b[0;34m\u001b[0m\u001b[0m\n\u001b[1;32m    371\u001b[0m \u001b[0;34m\u001b[0m\u001b[0m\n",
      "\u001b[0;31mValueError\u001b[0m: Extra data: line 1 column 1247889 - line 1 column 24175300 (char 1247888 - 24175299)"
     ]
    }
   ],
   "source": [
    "tryload = plosdata.load_source('data/large-biology_and_life_sciences.sample')"
   ]
  },
  {
   "cell_type": "code",
   "execution_count": null,
   "metadata": {
    "collapsed": false
   },
   "outputs": [],
   "source": [
    "# now use larger data set\n",
    "\n",
    "raw_docs_l = map(lambda x: \" \".join(x).replace(\" <PAD/>\", \"\"),padded_l)\n",
    "y_raw_l = map(lambda x: x.index(1) ,responses_l)\n",
    "np.random.seed(10)\n",
    "shuffle_indices_l = np.random.permutation(np.arange(len(y_raw_l)))\n",
    "x_raw_shuffled_l = np.asarray(raw_docs_l)[shuffle_indices_l]\n",
    "y_raw_shuffled_l = np.asarray(y_raw_l)[shuffle_indices_l]\n",
    "# Split train/test set\n",
    "x_raw_train_l, x_raw_test_l = x_raw_shuffled_l[:-2000], x_raw_shuffled_l[-2000:]\n",
    "y_raw_train_l, y_raw_test_l = y_raw_shuffled_l[:-2000], y_raw_shuffled_l[-2000:]\n"
   ]
  },
  {
   "cell_type": "code",
   "execution_count": 217,
   "metadata": {
    "collapsed": false
   },
   "outputs": [
    {
     "data": {
      "text/plain": [
       "0.71950000000000003"
      ]
     },
     "execution_count": 217,
     "metadata": {},
     "output_type": "execute_result"
    }
   ],
   "source": [
    "text_clf_l = Pipeline([('vect', CountVectorizer()),\n",
    "                     ('tfidf', TfidfTransformer()),\n",
    "                     ('clf', SGDClassifier(loss='squared_hinge', penalty='l2',\n",
    "                                           alpha=1e-3, n_iter=5, random_state=42)),\n",
    "])\n",
    "_ = text_clf_l.fit(list(x_raw_train_l), y_raw_train_l)\n",
    "predicted_svm_l = text_clf_l.predict(x_raw_test_l)\n",
    "np.mean(predicted_svm_l == y_raw_test_l)"
   ]
  },
  {
   "cell_type": "code",
   "execution_count": 218,
   "metadata": {
    "collapsed": false
   },
   "outputs": [
    {
     "data": {
      "text/plain": [
       "0.96255119953188994"
      ]
     },
     "execution_count": 218,
     "metadata": {},
     "output_type": "execute_result"
    }
   ],
   "source": [
    "np.mean(text_clf_l.predict(x_raw_train_l) == y_raw_train_l)"
   ]
  },
  {
   "cell_type": "code",
   "execution_count": 190,
   "metadata": {
    "collapsed": false,
    "scrolled": true
   },
   "outputs": [
    {
     "name": "stderr",
     "output_type": "stream",
     "text": [
      "INFO:plosapi:making request to http://api.plos.org/search?q=subject%3A%22Biology%20and%20life%20sciences%22&fq=doc_type%3Afull%20AND%20article_type%3A%22research%20article%22&wt=json&api_key=a1TjkHdh2NzVd6jhsDzM\n",
      "INFO:plosapi:making request to http://api.plos.org/search?q=subject%3A%22Computer%20and%20information%20sciences%22&fq=doc_type%3Afull%20AND%20article_type%3A%22research%20article%22&wt=json&api_key=a1TjkHdh2NzVd6jhsDzM\n"
     ]
    },
    {
     "name": "stdout",
     "output_type": "stream",
     "text": [
      "160018\n",
      "13940"
     ]
    },
    {
     "name": "stderr",
     "output_type": "stream",
     "text": [
      "INFO:plosapi:making request to http://api.plos.org/search?q=subject%3A%22Earth%20sciences%22&fq=doc_type%3Afull%20AND%20article_type%3A%22research%20article%22&wt=json&api_key=a1TjkHdh2NzVd6jhsDzM\n"
     ]
    },
    {
     "name": "stdout",
     "output_type": "stream",
     "text": [
      "\n",
      "12280"
     ]
    },
    {
     "name": "stderr",
     "output_type": "stream",
     "text": [
      "INFO:plosapi:making request to http://api.plos.org/search?q=subject%3A%22Ecology%20and%20environmental%20sciences%22&fq=doc_type%3Afull%20AND%20article_type%3A%22research%20article%22&wt=json&api_key=a1TjkHdh2NzVd6jhsDzM\n"
     ]
    },
    {
     "name": "stdout",
     "output_type": "stream",
     "text": [
      "\n",
      "13610"
     ]
    },
    {
     "name": "stderr",
     "output_type": "stream",
     "text": [
      "INFO:plosapi:making request to http://api.plos.org/search?q=subject%3A%22Engineering%20and%20technology%22&fq=doc_type%3Afull%20AND%20article_type%3A%22research%20article%22&wt=json&api_key=a1TjkHdh2NzVd6jhsDzM\n"
     ]
    },
    {
     "name": "stdout",
     "output_type": "stream",
     "text": [
      "\n",
      "13034"
     ]
    },
    {
     "name": "stderr",
     "output_type": "stream",
     "text": [
      "INFO:plosapi:making request to http://api.plos.org/search?q=subject%3A%22Medicine%20and%20health%20sciences%22&fq=doc_type%3Afull%20AND%20article_type%3A%22research%20article%22&wt=json&api_key=a1TjkHdh2NzVd6jhsDzM\n"
     ]
    },
    {
     "name": "stdout",
     "output_type": "stream",
     "text": [
      "\n",
      "123634"
     ]
    },
    {
     "name": "stderr",
     "output_type": "stream",
     "text": [
      "INFO:plosapi:making request to http://api.plos.org/search?q=subject%3A%22People%20and%20places%22&fq=doc_type%3Afull%20AND%20article_type%3A%22research%20article%22&wt=json&api_key=a1TjkHdh2NzVd6jhsDzM\n"
     ]
    },
    {
     "name": "stdout",
     "output_type": "stream",
     "text": [
      "\n",
      "28264"
     ]
    },
    {
     "name": "stderr",
     "output_type": "stream",
     "text": [
      "INFO:plosapi:making request to http://api.plos.org/search?q=subject%3A%22Physical%20sciences%22&fq=doc_type%3Afull%20AND%20article_type%3A%22research%20article%22&wt=json&api_key=a1TjkHdh2NzVd6jhsDzM\n"
     ]
    },
    {
     "name": "stdout",
     "output_type": "stream",
     "text": [
      "\n",
      "58349"
     ]
    },
    {
     "name": "stderr",
     "output_type": "stream",
     "text": [
      "INFO:plosapi:making request to http://api.plos.org/search?q=subject%3A%22Research%20and%20analysis%20methods%22&fq=doc_type%3Afull%20AND%20article_type%3A%22research%20article%22&wt=json&api_key=a1TjkHdh2NzVd6jhsDzM\n"
     ]
    },
    {
     "name": "stdout",
     "output_type": "stream",
     "text": [
      "\n",
      "105846"
     ]
    },
    {
     "name": "stderr",
     "output_type": "stream",
     "text": [
      "INFO:plosapi:making request to http://api.plos.org/search?q=subject%3A%22Science%20policy%22&fq=doc_type%3Afull%20AND%20article_type%3A%22research%20article%22&wt=json&api_key=a1TjkHdh2NzVd6jhsDzM\n"
     ]
    },
    {
     "name": "stdout",
     "output_type": "stream",
     "text": [
      "\n",
      "418"
     ]
    },
    {
     "name": "stderr",
     "output_type": "stream",
     "text": [
      "INFO:plosapi:making request to http://api.plos.org/search?q=subject%3A%22Social%20sciences%22&fq=doc_type%3Afull%20AND%20article_type%3A%22research%20article%22&wt=json&api_key=a1TjkHdh2NzVd6jhsDzM\n"
     ]
    },
    {
     "name": "stdout",
     "output_type": "stream",
     "text": [
      "\n",
      "20306\n"
     ]
    }
   ],
   "source": [
    "# get numFound\n",
    "for subject in plosdata.subject_areas:\n",
    "    print(plosapi.get_num({'q': 'subject:\\\"{}\\\"'.format(subject)}))"
   ]
  },
  {
   "cell_type": "code",
   "execution_count": 220,
   "metadata": {
    "collapsed": false
   },
   "outputs": [
    {
     "data": {
      "text/plain": [
       "2.5"
      ]
     },
     "execution_count": 220,
     "metadata": {},
     "output_type": "execute_result"
    }
   ],
   "source": [
    "np.mean([1,2,3,4])"
   ]
  },
  {
   "cell_type": "code",
   "execution_count": 227,
   "metadata": {
    "collapsed": false
   },
   "outputs": [
    {
     "ename": "IOError",
     "evalue": "[Errno 2] No such file or directory: 'large-vocab'",
     "output_type": "error",
     "traceback": [
      "\u001b[0;31m---------------------------------------------------------------------------\u001b[0m",
      "\u001b[0;31mIOError\u001b[0m                                   Traceback (most recent call last)",
      "\u001b[0;32m<ipython-input-227-1b56c07f16d5>\u001b[0m in \u001b[0;36m<module>\u001b[0;34m()\u001b[0m\n\u001b[0;32m----> 1\u001b[0;31m \u001b[0;32mwith\u001b[0m \u001b[0mopen\u001b[0m\u001b[0;34m(\u001b[0m\u001b[0;34m'{}-vocab'\u001b[0m\u001b[0;34m.\u001b[0m\u001b[0mformat\u001b[0m\u001b[0;34m(\u001b[0m\u001b[0;34m'large'\u001b[0m\u001b[0;34m)\u001b[0m\u001b[0;34m,\u001b[0m \u001b[0;34m'r'\u001b[0m\u001b[0;34m)\u001b[0m \u001b[0;32mas\u001b[0m \u001b[0mf3\u001b[0m\u001b[0;34m:\u001b[0m\u001b[0;34m\u001b[0m\u001b[0m\n\u001b[0m\u001b[1;32m      2\u001b[0m     \u001b[0mvocab_test\u001b[0m \u001b[0;34m=\u001b[0m \u001b[0mjson\u001b[0m\u001b[0;34m.\u001b[0m\u001b[0mload\u001b[0m\u001b[0;34m(\u001b[0m\u001b[0mf3\u001b[0m\u001b[0;34m)\u001b[0m\u001b[0;34m\u001b[0m\u001b[0m\n",
      "\u001b[0;31mIOError\u001b[0m: [Errno 2] No such file or directory: 'large-vocab'"
     ]
    }
   ],
   "source": [
    "with open('{}-vocab'.format('large'), 'r') as f3:\n",
    "    vocab_test = json.load(f3)"
   ]
  },
  {
   "cell_type": "code",
   "execution_count": 229,
   "metadata": {
    "collapsed": false
   },
   "outputs": [],
   "source": [
    "with open('small-padded', 'w') as fp:\n",
    "    json.dump(padded, fp)"
   ]
  },
  {
   "cell_type": "code",
   "execution_count": null,
   "metadata": {
    "collapsed": true
   },
   "outputs": [],
   "source": []
  }
 ],
 "metadata": {
  "kernelspec": {
   "display_name": "Python 2",
   "language": "python",
   "name": "python2"
  },
  "language_info": {
   "codemirror_mode": {
    "name": "ipython",
    "version": 2
   },
   "file_extension": ".py",
   "mimetype": "text/x-python",
   "name": "python",
   "nbconvert_exporter": "python",
   "pygments_lexer": "ipython2",
   "version": "2.7.10"
  }
 },
 "nbformat": 4,
 "nbformat_minor": 0
}
